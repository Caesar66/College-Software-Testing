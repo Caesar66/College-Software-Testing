{
  "nbformat": 4,
  "nbformat_minor": 0,
  "metadata": {
    "colab": {
      "provenance": []
    },
    "kernelspec": {
      "name": "python3",
      "display_name": "Python 3"
    },
    "language_info": {
      "name": "python"
    }
  },
  "cells": [
    {
      "cell_type": "markdown",
      "source": [
        "### **Grupo 5**\n",
        "César Silva <br>\n",
        "João Maia <br>\n",
        "Rodrigo Siqueira"
      ],
      "metadata": {
        "id": "QWsW6e9nHt7r"
      }
    },
    {
      "cell_type": "markdown",
      "source": [
        "### **Instrução de execução**\n",
        "\n",
        "Se estiver acessando pelo link, só apertar **Runtime** > **Run All**.\n",
        "Se estiver via arquivo, carregar no Colab e depois executar a instrução anterior."
      ],
      "metadata": {
        "id": "ZSr_SUbrDO1R"
      }
    },
    {
      "cell_type": "markdown",
      "source": [
        "### **Importações**"
      ],
      "metadata": {
        "id": "EPZCG15V_cRe"
      }
    },
    {
      "cell_type": "code",
      "source": [
        "!pip install pytest\n",
        "!pip install mutmut\n",
        "from google.colab import files"
      ],
      "metadata": {
        "id": "DUnJ0wFtAez0",
        "colab": {
          "base_uri": "https://localhost:8080/"
        },
        "outputId": "25b023bc-a77d-4b7e-ff7b-7a275f53d451"
      },
      "execution_count": null,
      "outputs": [
        {
          "output_type": "stream",
          "name": "stdout",
          "text": [
            "Looking in indexes: https://pypi.org/simple, https://us-python.pkg.dev/colab-wheels/public/simple/\n",
            "Requirement already satisfied: pytest in /usr/local/lib/python3.10/dist-packages (7.2.2)\n",
            "Requirement already satisfied: attrs>=19.2.0 in /usr/local/lib/python3.10/dist-packages (from pytest) (23.1.0)\n",
            "Requirement already satisfied: iniconfig in /usr/local/lib/python3.10/dist-packages (from pytest) (2.0.0)\n",
            "Requirement already satisfied: packaging in /usr/local/lib/python3.10/dist-packages (from pytest) (23.1)\n",
            "Requirement already satisfied: pluggy<2.0,>=0.12 in /usr/local/lib/python3.10/dist-packages (from pytest) (1.0.0)\n",
            "Requirement already satisfied: exceptiongroup>=1.0.0rc8 in /usr/local/lib/python3.10/dist-packages (from pytest) (1.1.1)\n",
            "Requirement already satisfied: tomli>=1.0.0 in /usr/local/lib/python3.10/dist-packages (from pytest) (2.0.1)\n",
            "Looking in indexes: https://pypi.org/simple, https://us-python.pkg.dev/colab-wheels/public/simple/\n",
            "Requirement already satisfied: mutmut in /usr/local/lib/python3.10/dist-packages (2.4.3)\n",
            "Requirement already satisfied: glob2 in /usr/local/lib/python3.10/dist-packages (from mutmut) (0.7)\n",
            "Requirement already satisfied: parso in /usr/local/lib/python3.10/dist-packages (from mutmut) (0.8.3)\n",
            "Requirement already satisfied: click in /usr/local/lib/python3.10/dist-packages (from mutmut) (8.1.3)\n",
            "Requirement already satisfied: pony in /usr/local/lib/python3.10/dist-packages (from mutmut) (0.7.16)\n",
            "Requirement already satisfied: junit-xml==1.8 in /usr/local/lib/python3.10/dist-packages (from mutmut) (1.8)\n",
            "Requirement already satisfied: toml in /usr/local/lib/python3.10/dist-packages (from mutmut) (0.10.2)\n",
            "Requirement already satisfied: six in /usr/local/lib/python3.10/dist-packages (from junit-xml==1.8->mutmut) (1.16.0)\n"
          ]
        }
      ]
    },
    {
      "cell_type": "markdown",
      "source": [
        "Como explicamos, escolhemos o mutmut devido ao fato de ser manutenido e ter uma sintaxe razoalvemente simples."
      ],
      "metadata": {
        "id": "ZMD83seF_kCI"
      }
    },
    {
      "cell_type": "markdown",
      "source": [
        "### **Solução Problema do Banco**"
      ],
      "metadata": {
        "id": "OGjFOYX0_tEW"
      }
    },
    {
      "cell_type": "code",
      "execution_count": null,
      "metadata": {
        "id": "r-Dw6XF9jfpD"
      },
      "outputs": [],
      "source": [
        "def banco(C, N, L):\n",
        "  caixalist = [0] * C\n",
        "  result = 0\n",
        "  for ccc in L:\n",
        "    valor = min(caixalist)\n",
        "    indice = caixalist.index(valor)  \n",
        "    caixalist[indice] += ccc[1]\n",
        "    if valor - ccc[0] > 20:\n",
        "      result += 1\n",
        "  return result"
      ]
    },
    {
      "cell_type": "markdown",
      "source": [
        "Solução desenvolvida em aula."
      ],
      "metadata": {
        "id": "umrNwyWI_4Ak"
      }
    },
    {
      "cell_type": "markdown",
      "source": [
        "### **Criação do Casos de Testes**"
      ],
      "metadata": {
        "id": "voALbMAqAdgJ"
      }
    },
    {
      "cell_type": "code",
      "source": [
        "import unittest\n",
        "\n",
        "class testeBanco(unittest.TestCase):\n",
        "  def setUp(self):\n",
        "    pass\n",
        "\n",
        "  #Teste 1\n",
        "  def test_banco1(self):\n",
        "    result = banco(1, 5, [(0, 10), (0, 10), (1, 10), (2, 10), (30, 10)])\n",
        "    self.assertEqual(result, 1)\n",
        "    self.assertRaises(Exception, banco, None)\n",
        "\n",
        "  #Teste 2\n",
        "  #def test_banco2(self):\n",
        "  #  result = banco(3,16,[(0,10),(0,10),(0,10),(3,10),(5,10),(7,10),(11,10),(13,10),(14,10),(15,10),(16,10),(17,10),(18,3),(19,10),(20,10),(23,3)])\n",
        "  #  self.assertEqual(result, 2)\n",
        "  #  self.assertRaises(Exception, banco, None)\n"
      ],
      "metadata": {
        "id": "1QM4ZhvdvDN2"
      },
      "execution_count": null,
      "outputs": []
    },
    {
      "cell_type": "markdown",
      "source": [
        "Esse código é colocado na hierarquia de pastas do colab para que possa ser utilizado no mutmut como caso de teste."
      ],
      "metadata": {
        "id": "pVpD2I7CCAce"
      }
    },
    {
      "cell_type": "markdown",
      "source": [
        "### **Comandos para a execução do *mutmut***"
      ],
      "metadata": {
        "id": "Uy0l_FT-AmZD"
      }
    },
    {
      "cell_type": "markdown",
      "source": [
        "O mutmut tem alguns configurações que são necessarias para que possa executado corretamente, especialmente aqui no colab. Então esses comandos foram criados para que funcionasse."
      ],
      "metadata": {
        "id": "o6F5HjvpAud0"
      }
    },
    {
      "cell_type": "code",
      "source": [
        "!mkdir src 2>/dev/null\n",
        "!mkdir tests 2>/dev/null\n",
        "%history -n -t 2 -f output\n",
        "%history -n -t 3 -f outputteste\n",
        "!tail  -n +2 output > main.py\n",
        "!tail  -n +2 outputteste > test_main.py\n",
        "!sed -i '1ifrom main import banco' test_main.py\n",
        "!mv test_main.py tests\n",
        "\n",
        "!rm output\n",
        "!rm outputteste\n",
        "\n",
        "!touch setup.cfg\n",
        "!echo -e \"[mutmut] \\\n",
        "\\npaths_to_mutate=main.py \\\n",
        "\\ntests_dir=tests/\" \\\n",
        "> setup.cfg"
      ],
      "metadata": {
        "id": "vpvezm_w4KR7"
      },
      "execution_count": null,
      "outputs": []
    },
    {
      "cell_type": "code",
      "source": [
        "!mutmut run"
      ],
      "metadata": {
        "colab": {
          "base_uri": "https://localhost:8080/"
        },
        "id": "sGME1R9ZDbXf",
        "outputId": "6f00a261-fb12-44aa-fbc0-b6ddf8e811bd"
      },
      "execution_count": null,
      "outputs": [
        {
          "output_type": "stream",
          "name": "stdout",
          "text": [
            "\n",
            "- Mutation testing starting -\n",
            "\n",
            "These are the steps:\n",
            "1. A full test suite run will be made to make sure we\n",
            "   can run the tests successfully and we know how long\n",
            "   it takes (to detect infinite loops for example)\n",
            "2. Mutants will be generated and checked\n",
            "\n",
            "Results are stored in .mutmut-cache.\n",
            "Print found mutants with `mutmut results`.\n",
            "\n",
            "Legend for output:\n",
            "🎉 Killed mutants.   The goal is for everything to end up in this bucket.\n",
            "⏰ Timeout.          Test suite took 10 times as long as the baseline so were killed.\n",
            "🤔 Suspicious.       Tests took a long time, but not long enough to be fatal.\n",
            "🙁 Survived.         This means your tests need to be expanded.\n",
            "🔇 Skipped.          Skipped.\n",
            "\n",
            "mutmut cache is out of date, clearing it...\n",
            "1. Running tests without mutations\n",
            "⠏ Running...Done\n",
            "\n",
            "2. Checking mutants\n",
            "⠋ 17/17  🎉 12  ⏰ 0  🤔 0  🙁 5  🔇 0\n"
          ]
        }
      ]
    },
    {
      "cell_type": "code",
      "source": [
        "!mutmut html\n",
        "!zip -r mutmutresults.zip html\n",
        "files.download('mutmutresults.zip')\n",
        "\n",
        "#cleanup\n",
        "!rm .mutmut-cache -rf\n",
        "!rm main.py\n",
        "!rm tests/test_main.py"
      ],
      "metadata": {
        "colab": {
          "base_uri": "https://localhost:8080/",
          "height": 69
        },
        "id": "5-NdsfwxYVNi",
        "outputId": "e6cba354-043f-4674-eaa2-fca02621f05f"
      },
      "execution_count": null,
      "outputs": [
        {
          "output_type": "stream",
          "name": "stdout",
          "text": [
            "updating: html/ (stored 0%)\n",
            "updating: html/index.html (deflated 41%)\n",
            "updating: html/main.py.html (deflated 73%)\n"
          ]
        },
        {
          "output_type": "display_data",
          "data": {
            "text/plain": [
              "<IPython.core.display.Javascript object>"
            ],
            "application/javascript": [
              "\n",
              "    async function download(id, filename, size) {\n",
              "      if (!google.colab.kernel.accessAllowed) {\n",
              "        return;\n",
              "      }\n",
              "      const div = document.createElement('div');\n",
              "      const label = document.createElement('label');\n",
              "      label.textContent = `Downloading \"${filename}\": `;\n",
              "      div.appendChild(label);\n",
              "      const progress = document.createElement('progress');\n",
              "      progress.max = size;\n",
              "      div.appendChild(progress);\n",
              "      document.body.appendChild(div);\n",
              "\n",
              "      const buffers = [];\n",
              "      let downloaded = 0;\n",
              "\n",
              "      const channel = await google.colab.kernel.comms.open(id);\n",
              "      // Send a message to notify the kernel that we're ready.\n",
              "      channel.send({})\n",
              "\n",
              "      for await (const message of channel.messages) {\n",
              "        // Send a message to notify the kernel that we're ready.\n",
              "        channel.send({})\n",
              "        if (message.buffers) {\n",
              "          for (const buffer of message.buffers) {\n",
              "            buffers.push(buffer);\n",
              "            downloaded += buffer.byteLength;\n",
              "            progress.value = downloaded;\n",
              "          }\n",
              "        }\n",
              "      }\n",
              "      const blob = new Blob(buffers, {type: 'application/binary'});\n",
              "      const a = document.createElement('a');\n",
              "      a.href = window.URL.createObjectURL(blob);\n",
              "      a.download = filename;\n",
              "      div.appendChild(a);\n",
              "      a.click();\n",
              "      div.remove();\n",
              "    }\n",
              "  "
            ]
          },
          "metadata": {}
        },
        {
          "output_type": "display_data",
          "data": {
            "text/plain": [
              "<IPython.core.display.Javascript object>"
            ],
            "application/javascript": [
              "download(\"download_433b51d4-6dac-4a00-9b97-3b63436aa1c3\", \"mutmutresults.zip\", 1008)"
            ]
          },
          "metadata": {}
        }
      ]
    },
    {
      "cell_type": "markdown",
      "source": [
        "O resultado html vai para um arquivo zip que pode ser feito download."
      ],
      "metadata": {
        "id": "ZP8lRNpGCGwB"
      }
    },
    {
      "cell_type": "markdown",
      "source": [
        "### **Resultados** ###\n",
        "\n",
        "Em todas as nossas execuções, o mutmut criava algumas poucas mutações (aproximadamente 17) muito provavelmente devido ao tamanho do código e também eliminava todos os mutantes tirando alguns poucos casos de suspeita (o que significa que o código demorou demais para executar). Dessa forma, concluímos que o caso de teste padrão que colocamos era suficiente para testar o código com sucesso.\n",
        "\n",
        "Para testar melhor nossos conhecimentos da disciplina, resolvemos usar um caso de teste menos robusto a fim de identificar quais elementos que utilizamos no caso de teste inicial foram responsáveis pelo seu sucesso.\n",
        "\n",
        "Abaixo temos os mutantes que sobreviveram ao caso de teste 1:"
      ],
      "metadata": {
        "id": "UJ8aad4TD8_C"
      }
    },
    {
      "cell_type": "markdown",
      "source": [
        "# main.py\n",
        "\n",
        "Killed 12 out of 17 mutants\n",
        "\n",
        "## Survived\n",
        "\n",
        "Survived mutation testing. These mutants show holes in your test suite.\n",
        "\n",
        "### Mutant 1\n",
        "\n",
        "<pre>--- main.py\n",
        "+++ main.py\n",
        "@@ -1,5 +1,5 @@\n",
        " def banco(C, N, L):\n",
        "-  caixalist = [0] * C\n",
        "+  caixalist = [1] * C\n",
        "   result = 0\n",
        "   for ccc in L:\n",
        "     valor = min(caixalist)\n",
        "</pre>\n",
        "\n",
        "### Mutant 12\n",
        "\n",
        "<pre>--- main.py\n",
        "+++ main.py\n",
        "@@ -5,7 +5,7 @@\n",
        "     valor = min(caixalist)\n",
        "     indice = caixalist.index(valor)  \n",
        "     caixalist[indice] += ccc[1]\n",
        "-    if valor - ccc[0] > 20:\n",
        "+    if valor - ccc[1] > 20:\n",
        "       result += 1\n",
        "   return result\n",
        "\n",
        "</pre>\n",
        "\n",
        "### Mutant 13\n",
        "\n",
        "<pre>--- main.py\n",
        "+++ main.py\n",
        "@@ -5,7 +5,7 @@\n",
        "     valor = min(caixalist)\n",
        "     indice = caixalist.index(valor)  \n",
        "     caixalist[indice] += ccc[1]\n",
        "-    if valor - ccc[0] > 20:\n",
        "+    if valor - ccc[0] >= 20:\n",
        "       result += 1\n",
        "   return result\n",
        "\n",
        "</pre>\n",
        "\n",
        "### Mutant 14\n",
        "\n",
        "<pre>--- main.py\n",
        "+++ main.py\n",
        "@@ -5,7 +5,7 @@\n",
        "     valor = min(caixalist)\n",
        "     indice = caixalist.index(valor)  \n",
        "     caixalist[indice] += ccc[1]\n",
        "-    if valor - ccc[0] > 20:\n",
        "+    if valor - ccc[0] > 21:\n",
        "       result += 1\n",
        "   return result\n",
        "\n",
        "</pre>\n",
        "\n",
        "### Mutant 15\n",
        "\n",
        "<pre>--- main.py\n",
        "+++ main.py\n",
        "@@ -6,6 +6,6 @@\n",
        "     indice = caixalist.index(valor)  \n",
        "     caixalist[indice] += ccc[1]\n",
        "     if valor - ccc[0] > 20:\n",
        "-      result += 1\n",
        "+      result = 1\n",
        "   return result\n",
        "\n",
        "</pre>"
      ],
      "metadata": {
        "id": "RGpruVsD6E72"
      }
    },
    {
      "cell_type": "markdown",
      "source": [
        "No caso do mutante 1, ele faz com todos os caixas estejam inicialmente ocupados por um minuto, no caso de teste 1, não existem situações em que esse um minuto faça diferença o suficiente para alterar o resultado final, o que é algo que deveria existir em um caso de teste, esse não é um mutante equivalente e um caso de teste deveria englobar pelo menos uma situação em que isso apresente uma falha. \n",
        "\n",
        "O próximo mutante que não foi morto, é o mutante 12, nele realiza-se a comparação do tempo atual menos o tempo de serviço desse cliente, o que não faz sentido no contexto do problema, pelo caso de teste 1 se tratar de um conjunto muito pequeno de valores, por azar (ou sorte), esse resultado foi exatamente o esperado. Esse mutante ilustra bem como o caso de teste 1 é mal-planejado, devido a ser um erro óbvio mas que mesmo assim passa no teste.\n",
        "\n",
        "Para o mutante 13, esse muda um aspecto do enunciado onde ele define que devemos contar apenas os que esperaram mais de 20 minutos, esse mutante faz com que contemos os que esperaram 20 minutos ou mais, o que não é a mesma coisa, mas como o caso de teste 1 não possui nenhum caso em que um cliente esperou 20 minutos, ele passou no teste. Este mutante nos força a criar um cliente que espere exatamente 20 minutos para mata-lo.\n",
        "\n",
        "O mutante 14 é similar ao mutante 13 de forma que ele muda o tempo de espera do enunciado, onde agora ele passa a contar clientes que esperaram mais de 21 minutos, através desse mutante devemos implementar também um caso de teste com um cliente que espere exatamente 21 minutos para matar este mutante.\n",
        "\n",
        "E por fim, temos o mutante 15, onde ao invés de realizar a contagem, ele retorna um valor de 1 caso alguém tenha esperado mais de 20 minutos, e 0 caso contrário. Este mutante também mostra como o caso de teste 1 foi mal elaborado, visto que por ter poucas entradas de clientes, não foi possível observar um erro de contagem. Para este mutante ser morto, bastava apenas inserir mais um caso de um cliente que esperou mais de 20 minutos."
      ],
      "metadata": {
        "id": "nNC9A6Wa7Quu"
      }
    },
    {
      "cell_type": "markdown",
      "source": [
        "### **Conclusão**\n",
        "\n",
        "Os testes de mutação nos providenciam uma forma extremamente simples e eficiente verificar se nossos casos de testes são eficazes, nos forçando a criar casos de testes que englobam situações que possívelmente teriam passado desapercebidas. \n",
        "\n",
        "Também é uma ótima forma de ilustrar o modelo RIP, onde podemos ter noção da propagação dos erros dado um defeito no programa, dependendo do caso de teste, até mesmo um defeito extremamente óbvio pode produzir um resultado correto.\n",
        "\n",
        "A utilização do mutmut também foi uma experiência bem interessante. O fato de nos permitir obter uma noção de o quão qualificado nosso caso de teste está com relação ao código é de extrema importância, especialmente se aumentarmos mais ainda o número de linhas ou tornar o código mais complexo."
      ],
      "metadata": {
        "id": "lniRFWb2CQwh"
      }
    }
  ]
}