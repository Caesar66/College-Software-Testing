{
  "nbformat": 4,
  "nbformat_minor": 0,
  "metadata": {
    "colab": {
      "provenance": []
    },
    "kernelspec": {
      "name": "python3",
      "display_name": "Python 3"
    },
    "language_info": {
      "name": "python"
    }
  },
  "cells": [
    {
      "cell_type": "markdown",
      "source": [
        "### **Grupo 5**\n",
        "César Silva <br>\n",
        "João Maia <br>\n",
        "Rodrigo Siqueira"
      ],
      "metadata": {
        "id": "QWsW6e9nHt7r"
      }
    },
    {
      "cell_type": "markdown",
      "source": [
        "### **Instrução de execução**\n",
        "\n",
        "Se estiver acessando pelo link, só apertar **Runtime** > **Run All**.\n",
        "Se estiver via arquivo, carregar no Colab e depois executar a instrução anterior."
      ],
      "metadata": {
        "id": "ZSr_SUbrDO1R"
      }
    },
    {
      "cell_type": "markdown",
      "source": [
        "### **Importações**"
      ],
      "metadata": {
        "id": "EPZCG15V_cRe"
      }
    },
    {
      "cell_type": "code",
      "source": [
        "!pip install pytest\n",
        "!pip install mutmut\n",
        "from google.colab import files"
      ],
      "metadata": {
        "id": "DUnJ0wFtAez0",
        "colab": {
          "base_uri": "https://localhost:8080/"
        },
        "outputId": "f19f8fe2-1207-4444-cad7-2263684597ef"
      },
      "execution_count": null,
      "outputs": [
        {
          "output_type": "stream",
          "name": "stdout",
          "text": [
            "Looking in indexes: https://pypi.org/simple, https://us-python.pkg.dev/colab-wheels/public/simple/\n",
            "Requirement already satisfied: pytest in /usr/local/lib/python3.10/dist-packages (7.2.2)\n",
            "Requirement already satisfied: attrs>=19.2.0 in /usr/local/lib/python3.10/dist-packages (from pytest) (23.1.0)\n",
            "Requirement already satisfied: iniconfig in /usr/local/lib/python3.10/dist-packages (from pytest) (2.0.0)\n",
            "Requirement already satisfied: packaging in /usr/local/lib/python3.10/dist-packages (from pytest) (23.1)\n",
            "Requirement already satisfied: pluggy<2.0,>=0.12 in /usr/local/lib/python3.10/dist-packages (from pytest) (1.0.0)\n",
            "Requirement already satisfied: exceptiongroup>=1.0.0rc8 in /usr/local/lib/python3.10/dist-packages (from pytest) (1.1.1)\n",
            "Requirement already satisfied: tomli>=1.0.0 in /usr/local/lib/python3.10/dist-packages (from pytest) (2.0.1)\n",
            "Looking in indexes: https://pypi.org/simple, https://us-python.pkg.dev/colab-wheels/public/simple/\n",
            "Collecting mutmut\n",
            "  Downloading mutmut-2.4.3.tar.gz (40 kB)\n",
            "\u001b[2K     \u001b[90m━━━━━━━━━━━━━━━━━━━━━━━━━━━━━━━━━━━━━━━━\u001b[0m \u001b[32m40.7/40.7 kB\u001b[0m \u001b[31m3.1 MB/s\u001b[0m eta \u001b[36m0:00:00\u001b[0m\n",
            "\u001b[?25h  Preparing metadata (setup.py) ... \u001b[?25l\u001b[?25hdone\n",
            "Requirement already satisfied: glob2 in /usr/local/lib/python3.10/dist-packages (from mutmut) (0.7)\n",
            "Requirement already satisfied: parso in /usr/local/lib/python3.10/dist-packages (from mutmut) (0.8.3)\n",
            "Requirement already satisfied: click in /usr/local/lib/python3.10/dist-packages (from mutmut) (8.1.3)\n",
            "Collecting pony (from mutmut)\n",
            "  Downloading pony-0.7.16-py3-none-any.whl (313 kB)\n",
            "\u001b[2K     \u001b[90m━━━━━━━━━━━━━━━━━━━━━━━━━━━━━━━━━━━━━━━\u001b[0m \u001b[32m313.9/313.9 kB\u001b[0m \u001b[31m7.4 MB/s\u001b[0m eta \u001b[36m0:00:00\u001b[0m\n",
            "\u001b[?25hCollecting junit-xml==1.8 (from mutmut)\n",
            "  Downloading junit-xml-1.8.tar.gz (10.0 kB)\n",
            "  Preparing metadata (setup.py) ... \u001b[?25l\u001b[?25hdone\n",
            "Requirement already satisfied: toml in /usr/local/lib/python3.10/dist-packages (from mutmut) (0.10.2)\n",
            "Requirement already satisfied: six in /usr/local/lib/python3.10/dist-packages (from junit-xml==1.8->mutmut) (1.16.0)\n",
            "Building wheels for collected packages: mutmut, junit-xml\n",
            "  Building wheel for mutmut (setup.py) ... \u001b[?25l\u001b[?25hdone\n",
            "  Created wheel for mutmut: filename=mutmut-2.4.3-py2.py3-none-any.whl size=30230 sha256=263813bff99239a2e73129e3458513890a4f41dd7737abad5abef1e7d14b95bc\n",
            "  Stored in directory: /root/.cache/pip/wheels/dd/6c/71/ee3d70e1bebeea38805c5153502f5f86548d4150241232e314\n",
            "  Building wheel for junit-xml (setup.py) ... \u001b[?25l\u001b[?25hdone\n",
            "  Created wheel for junit-xml: filename=junit_xml-1.8-py3-none-any.whl size=6761 sha256=4249949bc4581923997efa243791b19f9b4bf3ba901b55055cde4fa1d293ae92\n",
            "  Stored in directory: /root/.cache/pip/wheels/9a/ce/b7/f14c277cea6ba09e5e53f89f1ff57a1dd43af9a17d7f065692\n",
            "Successfully built mutmut junit-xml\n",
            "Installing collected packages: pony, junit-xml, mutmut\n",
            "Successfully installed junit-xml-1.8 mutmut-2.4.3 pony-0.7.16\n"
          ]
        }
      ]
    },
    {
      "cell_type": "markdown",
      "source": [
        "Como explicamos, escolhemos o mutmut devido ao fato de ser manutenido e ter uma sintaxe razoalvemente simples."
      ],
      "metadata": {
        "id": "ZMD83seF_kCI"
      }
    },
    {
      "cell_type": "markdown",
      "source": [
        "### **Solução Problema do Baralho**"
      ],
      "metadata": {
        "id": "OGjFOYX0_tEW"
      }
    },
    {
      "cell_type": "code",
      "execution_count": null,
      "metadata": {
        "id": "r-Dw6XF9jfpD"
      },
      "outputs": [],
      "source": [
        "def baralho2(entrada):\n",
        "\n",
        "    cartas = {'C':[], 'E':[],'U':[],'P':[]}\n",
        "    for i in range(0,len(entrada),3):\n",
        "        chave = entrada[i+2]\n",
        "        cartas[chave] = cartas[chave] + [int(entrada[i:i+2])]\n",
        "\n",
        "    faltam = {'C':13,'E':13,'U':13,'P':13}\n",
        "    for naipe in ['C','E','U','P']:\n",
        "        for valor in range(1,13):\n",
        "            qtd = cartas[naipe].count(valor)\n",
        "            if qtd > 1:\n",
        "                faltam[naipe] = 'erro'\n",
        "            elif qtd == 1 and faltam[naipe] != 'erro':\n",
        "                faltam[naipe] -= 1\n",
        "    return [faltam['C'], faltam['E'], faltam['U'], faltam['P']]\n",
        "\n"
      ]
    },
    {
      "cell_type": "markdown",
      "source": [
        "Inicialmente criamos outra função, funcionalmente identica, que mapeia os estados conforme a execução passa por eles"
      ],
      "metadata": {
        "id": "umrNwyWI_4Ak"
      }
    },
    {
      "cell_type": "code",
      "source": [
        "def baralho2Log(entrada):\n",
        "\n",
        "    _log_array = []\n",
        "\n",
        "    cartas = {'C':[], 'E':[],'U':[],'P':[]}\n",
        "\n",
        "    _log_array.append(1)\n",
        "\n",
        "    i = 0\n",
        "    while True:\n",
        "        _log_array.append(2)\n",
        "        if i >= len(entrada):\n",
        "            break\n",
        "\n",
        "        _log_array.append(3)\n",
        "        chave = entrada[i+2]\n",
        "        cartas[chave] = cartas[chave] + [int(entrada[i:i+2])]\n",
        "        i += 3\n",
        "\n",
        "    _log_array.append(4)\n",
        "\n",
        "    faltam = {'C':13,'E':13,'U':13,'P':13}\n",
        "    naipes = ['C','E','U','P','F']\n",
        "    naipe = naipes.pop(0)\n",
        "    while True:\n",
        "        _log_array.append(5)\n",
        "        if naipe == 'F':\n",
        "            break\n",
        "        valor = 1\n",
        "        _log_array.append(6)\n",
        "        while True:\n",
        "            _log_array.append(7)\n",
        "            if valor >= 13:\n",
        "              break\n",
        "            _log_array.append(8)\n",
        "            qtd = cartas[naipe].count(valor)\n",
        "            if qtd > 1:\n",
        "                _log_array.append(9)\n",
        "                faltam[naipe] = 'erro'\n",
        "            else:\n",
        "                _log_array.append(10)\n",
        "                if qtd == 1 and faltam[naipe] != 'erro':\n",
        "                    faltam[naipe] -= 1\n",
        "                    _log_array.append(11)\n",
        "            _log_array.append(12)\n",
        "            valor += 1\n",
        "        _log_array.append(13)\n",
        "        naipe = naipes.pop(0)\n",
        "\n",
        "    _log_array.append(14)\n",
        "\n",
        "    return _log_array,[faltam['C'], faltam['E'], faltam['U'], faltam['P']]"
      ],
      "metadata": {
        "id": "W4N0_1cWXD3Z"
      },
      "execution_count": null,
      "outputs": []
    },
    {
      "cell_type": "markdown",
      "source": [
        "### **Criação do Casos de Testes**"
      ],
      "metadata": {
        "id": "voALbMAqAdgJ"
      }
    },
    {
      "cell_type": "markdown",
      "source": [
        "Critério de Teste: **Node Coverage**"
      ],
      "metadata": {
        "id": "P63fmVqjwzOM"
      }
    },
    {
      "cell_type": "code",
      "source": [
        "import unittest\n",
        "\n",
        "class testeBaralhoNodeCoverage(unittest.TestCase):\n",
        "  def setUp(self):\n",
        "    pass\n",
        "\n",
        "  #Teste 1\n",
        "  def test1_baralho2(self):\n",
        "    result = baralho2(\"11P11P01C02C01U02U03U04U\")\n",
        "    self.assertEqual(result, [11, 13, 9, 'erro'])\n",
        "    self.assertRaises(Exception, baralho2, None)\n",
        "\n",
        "\n"
      ],
      "metadata": {
        "id": "1QM4ZhvdvDN2"
      },
      "execution_count": null,
      "outputs": []
    },
    {
      "cell_type": "code",
      "source": [
        "states = baralho2Log(\"11P11P01C02C01U02U03U04U\")[0]\n",
        "states = set(states)\n",
        "states"
      ],
      "metadata": {
        "colab": {
          "base_uri": "https://localhost:8080/"
        },
        "id": "O39UnXyDxCcs",
        "outputId": "9c853365-0a40-48ff-b57a-05abb7b23576"
      },
      "execution_count": null,
      "outputs": [
        {
          "output_type": "execute_result",
          "data": {
            "text/plain": [
              "{1, 2, 3, 4, 5, 6, 7, 8, 9, 10, 11, 12, 13, 14}"
            ]
          },
          "metadata": {},
          "execution_count": 5
        }
      ]
    },
    {
      "cell_type": "markdown",
      "source": [
        "Podemos ver que o nosso caso de teste aborda todos os estados."
      ],
      "metadata": {
        "id": "BtFKm1tM-kOV"
      }
    },
    {
      "cell_type": "markdown",
      "source": [
        "Casos de Teste: **Edge Coverage**"
      ],
      "metadata": {
        "id": "TmABjOf8zdmU"
      }
    },
    {
      "cell_type": "code",
      "source": [
        "import unittest\n",
        "\n",
        "class testeBaralhoEdgeCoverage(unittest.TestCase):\n",
        "  def setUp(self):\n",
        "    pass\n",
        "\n",
        "  #Teste 1\n",
        "  def test1_baralho2(self):\n",
        "    result = baralho2(\"11P11P01C02C01U02U03U04U\")\n",
        "    self.assertEqual(result, [11, 13, 9, 'erro'])\n",
        "    self.assertRaises(Exception, baralho2, None)"
      ],
      "metadata": {
        "id": "ANKS3np5t48O"
      },
      "execution_count": null,
      "outputs": []
    },
    {
      "cell_type": "code",
      "source": [
        "states = baralho2Log(\"11P11P01C02C01U02U03U04U\")[0]\n",
        "pairs = dict()\n",
        "for i in range(len(states)-1):\n",
        "  pairs[str(states[i]) + \"-\" + str(states[i+1])] = 1\n",
        "pairs = list(dict.fromkeys(pairs))\n",
        "pairs"
      ],
      "metadata": {
        "colab": {
          "base_uri": "https://localhost:8080/"
        },
        "id": "8Kqn7lQot9Rq",
        "outputId": "9d49407a-7556-4071-d1e8-9d92905e56d8"
      },
      "execution_count": null,
      "outputs": [
        {
          "output_type": "execute_result",
          "data": {
            "text/plain": [
              "['1-2',\n",
              " '2-3',\n",
              " '3-2',\n",
              " '2-4',\n",
              " '4-5',\n",
              " '5-6',\n",
              " '6-7',\n",
              " '7-8',\n",
              " '8-10',\n",
              " '10-11',\n",
              " '11-12',\n",
              " '12-7',\n",
              " '10-12',\n",
              " '7-13',\n",
              " '13-5',\n",
              " '8-9',\n",
              " '9-12',\n",
              " '5-14']"
            ]
          },
          "metadata": {},
          "execution_count": 7
        }
      ]
    },
    {
      "cell_type": "markdown",
      "source": [
        "Novamente, com apenas um caso de teste, conseguimos passar por todas as arestas do grafo."
      ],
      "metadata": {
        "id": "mrOy568ZxVAp"
      }
    },
    {
      "cell_type": "markdown",
      "source": [
        "Esse código é colocado na hierarquia de pastas do colab para que possa ser utilizado no mutmut como caso de teste."
      ],
      "metadata": {
        "id": "pVpD2I7CCAce"
      }
    },
    {
      "cell_type": "code",
      "source": [
        "import unittest\n",
        "\n",
        "class testeBaralhoEdgePairCoverage(unittest.TestCase):\n",
        "  def setUp(self):\n",
        "    pass\n",
        "\n",
        "  #Teste 1\n",
        "  def test1_baralho2(self):\n",
        "    result = baralho2(\"11P11P01C02C01U02U03U04U\")\n",
        "    self.assertEqual(result, [11, 13, 9, 'erro'])\n",
        "    self.assertRaises(Exception, baralho2, None)\n",
        "  def test2_baralho2(self):\n",
        "    result = baralho2(\"\")\n",
        "    self.assertEqual(result, [13, 13, 13, 13])\n",
        "    self.assertRaises(Exception, baralho2, None)"
      ],
      "metadata": {
        "id": "Edb84BzDxthp"
      },
      "execution_count": null,
      "outputs": []
    },
    {
      "cell_type": "markdown",
      "source": [
        "A execução do Unittest é concluída com sucesso."
      ],
      "metadata": {
        "id": "hSc31pJKXd-O"
      }
    },
    {
      "cell_type": "code",
      "source": [
        "states = baralho2Log(\"11P11P01C02C01U02U03U04U\")[0]\n",
        "pairs = dict()\n",
        "for i in range(len(states)-2):\n",
        "  pairs[str(states[i]) + \"-\" + str(states[i+1])+ \"-\" + str(states[i+2])] = 1\n",
        "pairs = list(dict.fromkeys(pairs))\n",
        "pairs"
      ],
      "metadata": {
        "colab": {
          "base_uri": "https://localhost:8080/"
        },
        "outputId": "04904c5b-0fe3-463d-928a-58b179ca0f38",
        "id": "M7B7_1CYyGij"
      },
      "execution_count": null,
      "outputs": [
        {
          "output_type": "execute_result",
          "data": {
            "text/plain": [
              "['1-2-3',\n",
              " '2-3-2',\n",
              " '3-2-3',\n",
              " '3-2-4',\n",
              " '2-4-5',\n",
              " '4-5-6',\n",
              " '5-6-7',\n",
              " '6-7-8',\n",
              " '7-8-10',\n",
              " '8-10-11',\n",
              " '10-11-12',\n",
              " '11-12-7',\n",
              " '12-7-8',\n",
              " '8-10-12',\n",
              " '10-12-7',\n",
              " '12-7-13',\n",
              " '7-13-5',\n",
              " '13-5-6',\n",
              " '7-8-9',\n",
              " '8-9-12',\n",
              " '9-12-7',\n",
              " '13-5-14']"
            ]
          },
          "metadata": {},
          "execution_count": 9
        }
      ]
    },
    {
      "cell_type": "markdown",
      "source": [
        "Dessa vez, existem alguns requisitos que não foram abordados, são eles: [1,2,4], [4,5,14], [6,7,13] \\\\\n",
        "\n",
        "O par [1,2,4] aborda um caso de entrada vazio, teste vazio adicionado na lista de testes \\\\\n",
        "O par [4,5,14] se refere a um caso insatisfatível, pois é um for que obrigatoriamente é executado 4 vezes, uma vez para cada naipe. \\\\\n",
        "O par [6,7,13] possui a mesma lógica, é um for que obrigatoriamente será executado 12 vezes para verificar a presença de cada carta no baralho. \\\\\n",
        "\n",
        "Vamos executar todos os casos de teste:"
      ],
      "metadata": {
        "id": "vefRUMi6z0P-"
      }
    },
    {
      "cell_type": "markdown",
      "source": [
        "##**Caminhos Primos**"
      ],
      "metadata": {
        "id": "i8cluA8JvADe"
      }
    },
    {
      "cell_type": "markdown",
      "source": [
        "1. [1,2,4,5,6,7,8,10,11,12] <- Impossível (tamanho de entrada >= 3, então entra no nó 3 pelo menos uma vez)\n",
        "2. [3,2,4,5,6,7,8,10,11,12]\n",
        "3. [1,2,4,5,6,7,8,10,12] <- Impossível (tamanho de entrada >= 3, então entra no nó 3 pelo menos uma vez)\n",
        "4. [1,2,4,5,6,7,8,9,12] <- Impossível (tamanho de entrada >= 3, então entra no nó 3 pelo menos uma vez)\n",
        "5. [3,2,4,5,6,7,8,10,12]\n",
        "6. [3,2,4,5,6,7,8,9,12]\n",
        "7. [8,10,11,12,7,13,5,14]\n",
        "8. [13,5,6,7,8,10,11,12]\n",
        "9. [8,10,11,12,7,13,5,6]\n",
        "10. [3,2,4,5,6,7,13] <- Impossível (quando inicializa valor = 1 tem que percorrer o loop até o valor 13)\n",
        "11. [1,2,4,5,6,7,13] <- Impossível (tamanho de entrada >= 3, então entra no nó 3 pelo menos uma vez)\n",
        "12. [8,9,12,7,13,5,6]\n",
        "13. [13,5,6,7,8,9,12]\n",
        "14. [13,5,6,7,8,10,12]\n",
        "15. [8,9,12,7,13,5,14]\n",
        "16. [8,10,12,7,13,5,6]\n",
        "17. [8,10,12,7,13,5,14]\n",
        "18. [7,8,10,11,12,7]\n",
        "19. [8,10,11,12,7,8]\n",
        "20. [11,12,7,8,10,11]\n",
        "21. [12,7,8,10,11,12]\n",
        "22. [9,12,7,8,10,11] <- Impossível (quando um naipe é caracterizado com erro, fica-se impossibilitado de modificar o valor da variável \"faltam\" (faltam[naipe] -= 1))\n",
        "23. [10,11,12,7,8,9]\n",
        "24. [10,11,12,7,8,10]\n",
        "25. [6,7,13,5,14] <- Impossível (quando inicializa valor = 1 tem que percorrer o loop até o valor 13)\n",
        "26. [7,8,9,12,7]\n",
        "27. [6,7,13,5,6] <- Impossível (quando inicializa valor = 1 tem que percorrer o loop até o valor 13)\n",
        "28. [8,9,12,7,8]\n",
        "29. [7,13,5,6,7]\n",
        "30. [7,8,10,12,7]\n",
        "31. [3,2,4,5,14] <- Impossível (a iteração dos naipes deve ser feita)\n",
        "32. [1,2,4,5,14] <- Impossível (tamanho de entrada >= 3, então entra no nó 3 pelo menos uma vez)\n",
        "33. [5,6,7,13,5] <- Impossível (quando inicializa valor = 1 tem que percorrer o loop até o valor 13)\n",
        "34. [12,7,8,9,12]\n",
        "35. [12,7,8,10,12]\n",
        "36. [13,5,6,7,13] <- Impossível (quando inicializa valor = 1 tem que percorrer o loop até o valor 13)\n",
        "37. [9,12,7,8,9]\n",
        "38. [8,10,12,7,8]\n",
        "39. [10,12,7,8,9]\n",
        "40. [10,12,7,8,10]\n",
        "41. [1,2,3]\n",
        "42. [2,3,2]\n",
        "43. [3,2,3]"
      ],
      "metadata": {
        "id": "Meslvp0-vay0"
      }
    },
    {
      "cell_type": "code",
      "source": [
        "import random\n",
        "import math\n",
        "\n",
        "#Esse código verifica quais caminhos foram passados, registrando numa lista de strings e outra de booleanos\n",
        "def test_paths_(primes_paths, test_paths):\n",
        "  result_tests = []\n",
        "  total_paths_passed = [False for x in range(len(primes_paths))]\n",
        "  for test in test_paths:\n",
        "    paths_bool= [False for x in range(len(primes_paths))]\n",
        "    result = str(baralho2Log(test)).strip()\n",
        "    for i, path in enumerate(primes_paths):\n",
        "      str_path = str(path)[1:-1]\n",
        "      if(str_path in result):\n",
        "        paths_bool[i] = True\n",
        "    result_tests.append(paths_bool)\n",
        "  return result_tests, total_paths_passed\n",
        "\n",
        "#Esse código cria uma string que verifica quais caminhos foram passados por cada caso de teste usando a função anterior\n",
        "# e registra quais novo caminhos foram passados em comparação com o último caso\n",
        "def log_test_paths_(primes_paths, test_paths, result_tests, total_paths_passed):\n",
        "  log = \"\"\n",
        "  for index, result in enumerate(result_tests):\n",
        "    log += f'Caso de Teste {index+1}: {test_paths[index]}\\nCaminhos passados:\\n'\n",
        "    total_passed = 0\n",
        "    for j, p in enumerate(result):\n",
        "      if(p):\n",
        "        if(index != 0 and (total_paths_passed[j] == False and p == True)):\n",
        "          log += f'{primes_paths[j]} -> Caminho novo\\n'\n",
        "        else:\n",
        "          log += f'{primes_paths[j]}\\n'\n",
        "        total_paths_passed[j] = True\n",
        "        total_passed +=1\n",
        "    log += f\"Total: {total_passed}\\n\"\n",
        "  log += '\\nCaminhos faltando:\\n'\n",
        "  total_missing = 0\n",
        "  for k, p in enumerate(total_paths_passed):\n",
        "    if(not p):\n",
        "      log += f\"{primes_paths[k]}\\n\"\n",
        "      total_missing += 1\n",
        "  log += f\"Total: {total_missing}\\n\"\n",
        "\n",
        "  return total_missing, log\n",
        "\n",
        "#Essa função é uma somente uma experiencia. Ela cria casos de teste aleatórios\n",
        "def createRandomTest(cartas, numeros, t_min, t_max):\n",
        "  entrada = \"\"\n",
        "  quantidade = random.randint(t_min, t_max)\n",
        "  for i in range(quantidade):\n",
        "    entrada += random.choice(numeros) + random.choice(cartas)\n",
        "\n",
        "  return entrada\n",
        "\n",
        "\n",
        "primes_paths = [[3,2,4,5,6,7,8,10,11,12], [3,2,4,5,6,7,8,10,12], [3,2,4,5,6,7,8,9,12], [8,10,11,12,7,13,5,14], [13,5,6,7,8,10,11,12], [8,10,11,12,7,13,5,6], [8,9,12,7,13,5,6], [13,5,6,7,8,9,12], [13,5,6,7,8,10,12], [8,9,12,7,13,5,14], [8,10,12,7,13,5,6], [8,10,12,7,13,5,14], [7,8,10,11,12,7], [8,10,11,12,7,8], [11,12,7,8,10,11], [12,7,8,10,11,12], [10,11,12,7,8,9], [10,11,12,7,8,10], [7,8,9,12,7], [8,9,12,7,8], [7,13,5,6,7], [7,8,10,12,7], [12,7,8,9,12], [12,7,8,10,12], [9,12,7,8,9], [8,10,12,7,8], [10,12,7,8,9], [10,12,7,8,10], [1,2,3], [2,3,2], [3,2,3]]\n",
        "cartas = ['C', 'E','U','P']\n",
        "numeros = ['01','02','03','04','05','06','07','08','09','10','11','12','13']\n",
        "t = (3, 156)\n",
        "\n",
        "valor_minimo = 20\n",
        "maximo_rodadas = 1000\n",
        "#Essa função junta tudo para rodar uma quantidade de iterações, criando entradas aleatórias e averiguar qual conjunto delas é o melhor até acabar as iterações. Foi usada só para experimentação.\n",
        "def run(primes_paths, cartas, numeros, t, valor_minimo, maximo_rodadas):\n",
        "  melhor_conjunto  = \"\"\n",
        "  melhor_valor = math.inf\n",
        "  while(True):\n",
        "    testes_conjunto = random.randint(10, 30)\n",
        "    #testes_conjunto = 30\n",
        "    test_paths = [createRandomTest(cartas, numeros, t[0], t[1]) for i in range(testes_conjunto)]\n",
        "    result_tests, total_paths_passed = test_paths_(primes_paths, test_paths)\n",
        "    r, log = log_test_paths_(primes_paths, test_paths, result_tests, total_paths_passed)\n",
        "    if(melhor_valor > r or (melhor_valor == r and testes_conjunto < len(result_tests))):\n",
        "      melhor_valor = r\n",
        "      melhor_conjunto = log\n",
        "    if(maximo_rodadas == 0):\n",
        "      break\n",
        "    maximo_rodadas -= 1\n",
        "  print(log)\n",
        "\n",
        "#run(primes_paths, cartas, numeros, t, valor_minimo, maximo_rodadas)\n",
        "#Aqui é colocado os casos de testes elaborados\n",
        "test_paths = [\"01U02C12C01E01E\", \"01C01C12C12C03E02U02U04P04P05P05P12P12P\", \"01C02C02C\", \"01C02C03C04C05C06C07C08C09C10C11C12C13C01E02E03E04E05E06E07E08E09E10E11E12E13E01U02U03U04U05U06U07U08U09U10U11U12U13U01P02P03P04P05P06P07P08P09P10P11P12P13P\"]\n",
        "result_tests, total_paths_passed = test_paths_(primes_paths, test_paths)\n",
        "r, log = log_test_paths_(primes_paths, test_paths, result_tests, total_paths_passed)\n",
        "print(log)\n"
      ],
      "metadata": {
        "colab": {
          "base_uri": "https://localhost:8080/"
        },
        "id": "o2flvoYPxcBi",
        "outputId": "a1d9c2ab-bbf8-49e0-da64-452dc81a449a"
      },
      "execution_count": null,
      "outputs": [
        {
          "output_type": "stream",
          "name": "stdout",
          "text": [
            "Caso de Teste 1: 01U02C12C01E01E\n",
            "Caminhos passados:\n",
            "[3, 2, 4, 5, 6, 7, 8, 10, 12]\n",
            "[13, 5, 6, 7, 8, 10, 11, 12]\n",
            "[8, 10, 11, 12, 7, 13, 5, 6]\n",
            "[13, 5, 6, 7, 8, 9, 12]\n",
            "[13, 5, 6, 7, 8, 10, 12]\n",
            "[8, 10, 12, 7, 13, 5, 6]\n",
            "[8, 10, 12, 7, 13, 5, 14]\n",
            "[7, 8, 10, 11, 12, 7]\n",
            "[8, 10, 11, 12, 7, 8]\n",
            "[12, 7, 8, 10, 11, 12]\n",
            "[10, 11, 12, 7, 8, 10]\n",
            "[7, 8, 9, 12, 7]\n",
            "[8, 9, 12, 7, 8]\n",
            "[7, 13, 5, 6, 7]\n",
            "[7, 8, 10, 12, 7]\n",
            "[12, 7, 8, 10, 12]\n",
            "[8, 10, 12, 7, 8]\n",
            "[10, 12, 7, 8, 10]\n",
            "[1, 2, 3]\n",
            "[2, 3, 2]\n",
            "[3, 2, 3]\n",
            "Total: 21\n",
            "Caso de Teste 2: 01C01C12C12C03E02U02U04P04P05P05P12P12P\n",
            "Caminhos passados:\n",
            "[3, 2, 4, 5, 6, 7, 8, 9, 12] -> Caminho novo\n",
            "[8, 9, 12, 7, 13, 5, 6] -> Caminho novo\n",
            "[13, 5, 6, 7, 8, 10, 12]\n",
            "[8, 9, 12, 7, 13, 5, 14] -> Caminho novo\n",
            "[8, 10, 12, 7, 13, 5, 6]\n",
            "[7, 8, 10, 11, 12, 7]\n",
            "[8, 10, 11, 12, 7, 8]\n",
            "[12, 7, 8, 10, 11, 12]\n",
            "[10, 11, 12, 7, 8, 10]\n",
            "[7, 8, 9, 12, 7]\n",
            "[8, 9, 12, 7, 8]\n",
            "[7, 13, 5, 6, 7]\n",
            "[7, 8, 10, 12, 7]\n",
            "[12, 7, 8, 9, 12] -> Caminho novo\n",
            "[12, 7, 8, 10, 12]\n",
            "[9, 12, 7, 8, 9] -> Caminho novo\n",
            "[8, 10, 12, 7, 8]\n",
            "[10, 12, 7, 8, 9] -> Caminho novo\n",
            "[10, 12, 7, 8, 10]\n",
            "[1, 2, 3]\n",
            "[2, 3, 2]\n",
            "[3, 2, 3]\n",
            "Total: 22\n",
            "Caso de Teste 3: 01C02C02C\n",
            "Caminhos passados:\n",
            "[3, 2, 4, 5, 6, 7, 8, 10, 11, 12] -> Caminho novo\n",
            "[13, 5, 6, 7, 8, 10, 12]\n",
            "[8, 10, 12, 7, 13, 5, 6]\n",
            "[8, 10, 12, 7, 13, 5, 14]\n",
            "[7, 8, 10, 11, 12, 7]\n",
            "[8, 10, 11, 12, 7, 8]\n",
            "[10, 11, 12, 7, 8, 9] -> Caminho novo\n",
            "[7, 8, 9, 12, 7]\n",
            "[8, 9, 12, 7, 8]\n",
            "[7, 13, 5, 6, 7]\n",
            "[7, 8, 10, 12, 7]\n",
            "[12, 7, 8, 9, 12]\n",
            "[12, 7, 8, 10, 12]\n",
            "[8, 10, 12, 7, 8]\n",
            "[10, 12, 7, 8, 10]\n",
            "[1, 2, 3]\n",
            "[2, 3, 2]\n",
            "[3, 2, 3]\n",
            "Total: 18\n",
            "Caso de Teste 4: 01C02C03C04C05C06C07C08C09C10C11C12C13C01E02E03E04E05E06E07E08E09E10E11E12E13E01U02U03U04U05U06U07U08U09U10U11U12U13U01P02P03P04P05P06P07P08P09P10P11P12P13P\n",
            "Caminhos passados:\n",
            "[3, 2, 4, 5, 6, 7, 8, 10, 11, 12]\n",
            "[8, 10, 11, 12, 7, 13, 5, 14] -> Caminho novo\n",
            "[13, 5, 6, 7, 8, 10, 11, 12]\n",
            "[8, 10, 11, 12, 7, 13, 5, 6]\n",
            "[7, 8, 10, 11, 12, 7]\n",
            "[8, 10, 11, 12, 7, 8]\n",
            "[11, 12, 7, 8, 10, 11] -> Caminho novo\n",
            "[12, 7, 8, 10, 11, 12]\n",
            "[10, 11, 12, 7, 8, 10]\n",
            "[7, 13, 5, 6, 7]\n",
            "[1, 2, 3]\n",
            "[2, 3, 2]\n",
            "[3, 2, 3]\n",
            "Total: 13\n",
            "\n",
            "Caminhos faltando:\n",
            "Total: 0\n",
            "\n"
          ]
        }
      ]
    },
    {
      "cell_type": "code",
      "source": [
        "import unittest\n",
        "\n",
        "class testeBaralhoPrimeCoverage(unittest.TestCase):\n",
        "  def setUp(self):\n",
        "    pass\n",
        "\n",
        "  #Teste 1\n",
        "  def test1_baralho2(self):\n",
        "    result = baralho2(\"01U02C12C01E01E\")\n",
        "    self.assertEqual(result, [11, 'erro', 12, 13])\n",
        "    self.assertRaises(Exception, baralho2, None)\n",
        "\n",
        "  def test2_baralho2(self):\n",
        "    result = baralho2(\"01C01C12C12C03E02U02U04P04P05P05P12P12P\")\n",
        "    self.assertEqual(result, ['erro', 12, 'erro', 'erro'])\n",
        "    self.assertRaises(Exception, baralho2, None)\n",
        "\n",
        "  def test3_baralho2(self):\n",
        "    result = baralho2(\"01C02C02C\")\n",
        "    self.assertEqual(result, ['erro', 13, 13, 13])\n",
        "    self.assertRaises(Exception, baralho2, None)\n",
        "\n",
        "  def test4_baralho2(self):\n",
        "    result = baralho2(\"01C02C03C04C05C06C07C08C09C10C11C12C13C01E02E03E04E05E06E07E08E09E10E11E12E13E01U02U03U04U05U06U07U08U09U10U11U12U13U01P02P03P04P05P06P07P08P09P10P11P12P13P\")\n",
        "    self.assertEqual(result, [0, 0, 0, 0])\n",
        "    self.assertRaises(Exception, baralho2, None)"
      ],
      "metadata": {
        "id": "ZexLgQ9Yg2Bs"
      },
      "execution_count": null,
      "outputs": []
    },
    {
      "cell_type": "code",
      "source": [
        "unittest.main(argv=[''], verbosity=2, exit=False)"
      ],
      "metadata": {
        "colab": {
          "base_uri": "https://localhost:8080/"
        },
        "id": "nJh5Mwl59ruJ",
        "outputId": "a67a30ad-3ddb-4baf-89d1-2eee9f75fb91"
      },
      "execution_count": null,
      "outputs": [
        {
          "output_type": "stream",
          "name": "stderr",
          "text": [
            "test1_baralho2 (__main__.testeBaralhoEdgeCoverage) ... ok\n",
            "test1_baralho2 (__main__.testeBaralhoEdgePairCoverage) ... ok\n",
            "test2_baralho2 (__main__.testeBaralhoEdgePairCoverage) ... ok\n",
            "test1_baralho2 (__main__.testeBaralhoNodeCoverage) ... ok\n",
            "test1_baralho2 (__main__.testeBaralhoPrimeCoverage) ... ok\n",
            "test2_baralho2 (__main__.testeBaralhoPrimeCoverage) ... ok\n",
            "test3_baralho2 (__main__.testeBaralhoPrimeCoverage) ... ok\n",
            "test4_baralho2 (__main__.testeBaralhoPrimeCoverage) ... ok\n",
            "\n",
            "----------------------------------------------------------------------\n",
            "Ran 8 tests in 0.035s\n",
            "\n",
            "OK\n"
          ]
        },
        {
          "output_type": "execute_result",
          "data": {
            "text/plain": [
              "<unittest.main.TestProgram at 0x7efed8124640>"
            ]
          },
          "metadata": {},
          "execution_count": 13
        }
      ]
    },
    {
      "cell_type": "markdown",
      "source": [
        "### **Comandos para a execução do *mutmut***"
      ],
      "metadata": {
        "id": "Uy0l_FT-AmZD"
      }
    },
    {
      "cell_type": "markdown",
      "source": [
        "O mutmut tem alguns configurações que são necessarias para que possa executado corretamente, especialmente aqui no colab. Então esses comandos foram criados para que funcionasse. Tais serão configuradas para cada execução."
      ],
      "metadata": {
        "id": "o6F5HjvpAud0"
      }
    },
    {
      "cell_type": "markdown",
      "source": [
        "###**Execução do mutmut para o primeiro critério, Node Coverage**"
      ],
      "metadata": {
        "id": "WfXEt7lkW68C"
      }
    },
    {
      "cell_type": "code",
      "source": [
        "!mkdir src 2>/dev/null\n",
        "!mkdir tests 2>/dev/null\n",
        "%history -n -t 2 -f output\n",
        "%history -n -t 4 -f outputteste\n",
        "!tail  -n +2 output > main.py\n",
        "!tail  -n +2 outputteste > test_main.py\n",
        "!sed -i '1ifrom main import baralho2' test_main.py\n",
        "!mv test_main.py tests\n",
        "\n",
        "!rm output\n",
        "!rm outputteste\n",
        "\n",
        "!touch setup.cfg\n",
        "!echo -e \"[mutmut] \\\n",
        "\\npaths_to_mutate=main.py \\\n",
        "\\ntests_dir=tests/\" \\\n",
        "> setup.cfg"
      ],
      "metadata": {
        "id": "vpvezm_w4KR7"
      },
      "execution_count": null,
      "outputs": []
    },
    {
      "cell_type": "code",
      "source": [
        "!mutmut run"
      ],
      "metadata": {
        "colab": {
          "base_uri": "https://localhost:8080/"
        },
        "id": "sGME1R9ZDbXf",
        "outputId": "d53589db-7b17-4e93-db2d-7152fd9a1db1"
      },
      "execution_count": null,
      "outputs": [
        {
          "output_type": "stream",
          "name": "stdout",
          "text": [
            "\n",
            "- Mutation testing starting -\n",
            "\n",
            "These are the steps:\n",
            "1. A full test suite run will be made to make sure we\n",
            "   can run the tests successfully and we know how long\n",
            "   it takes (to detect infinite loops for example)\n",
            "2. Mutants will be generated and checked\n",
            "\n",
            "Results are stored in .mutmut-cache.\n",
            "Print found mutants with `mutmut results`.\n",
            "\n",
            "Legend for output:\n",
            "🎉 Killed mutants.   The goal is for everything to end up in this bucket.\n",
            "⏰ Timeout.          Test suite took 10 times as long as the baseline so were killed.\n",
            "🤔 Suspicious.       Tests took a long time, but not long enough to be fatal.\n",
            "🙁 Survived.         This means your tests need to be expanded.\n",
            "🔇 Skipped.          Skipped.\n",
            "\n",
            "mutmut cache is out of date, clearing it...\n",
            "1. Running tests without mutations\n",
            "⠏ Running...Done\n",
            "\n",
            "2. Checking mutants\n",
            "⠧ 46/46  🎉 42  ⏰ 0  🤔 0  🙁 4  🔇 0\n"
          ]
        }
      ]
    },
    {
      "cell_type": "code",
      "source": [
        "!mutmut html\n",
        "!zip -r mutmutresultsNodeCoverage.zip html\n",
        "files.download('mutmutresultsNodeCoverage.zip')\n",
        "\n",
        "#cleanup\n",
        "!rm .mutmut-cache -rf\n",
        "!rm main.py\n",
        "!rm tests/test_main.py"
      ],
      "metadata": {
        "colab": {
          "base_uri": "https://localhost:8080/",
          "height": 69
        },
        "id": "5-NdsfwxYVNi",
        "outputId": "95bd97b3-e8ea-4cf4-d042-717a0a3feff2"
      },
      "execution_count": null,
      "outputs": [
        {
          "output_type": "stream",
          "name": "stdout",
          "text": [
            "  adding: html/ (stored 0%)\n",
            "  adding: html/main.py.html (deflated 73%)\n",
            "  adding: html/index.html (deflated 41%)\n"
          ]
        },
        {
          "output_type": "display_data",
          "data": {
            "text/plain": [
              "<IPython.core.display.Javascript object>"
            ],
            "application/javascript": [
              "\n",
              "    async function download(id, filename, size) {\n",
              "      if (!google.colab.kernel.accessAllowed) {\n",
              "        return;\n",
              "      }\n",
              "      const div = document.createElement('div');\n",
              "      const label = document.createElement('label');\n",
              "      label.textContent = `Downloading \"${filename}\": `;\n",
              "      div.appendChild(label);\n",
              "      const progress = document.createElement('progress');\n",
              "      progress.max = size;\n",
              "      div.appendChild(progress);\n",
              "      document.body.appendChild(div);\n",
              "\n",
              "      const buffers = [];\n",
              "      let downloaded = 0;\n",
              "\n",
              "      const channel = await google.colab.kernel.comms.open(id);\n",
              "      // Send a message to notify the kernel that we're ready.\n",
              "      channel.send({})\n",
              "\n",
              "      for await (const message of channel.messages) {\n",
              "        // Send a message to notify the kernel that we're ready.\n",
              "        channel.send({})\n",
              "        if (message.buffers) {\n",
              "          for (const buffer of message.buffers) {\n",
              "            buffers.push(buffer);\n",
              "            downloaded += buffer.byteLength;\n",
              "            progress.value = downloaded;\n",
              "          }\n",
              "        }\n",
              "      }\n",
              "      const blob = new Blob(buffers, {type: 'application/binary'});\n",
              "      const a = document.createElement('a');\n",
              "      a.href = window.URL.createObjectURL(blob);\n",
              "      a.download = filename;\n",
              "      div.appendChild(a);\n",
              "      a.click();\n",
              "      div.remove();\n",
              "    }\n",
              "  "
            ]
          },
          "metadata": {}
        },
        {
          "output_type": "display_data",
          "data": {
            "text/plain": [
              "<IPython.core.display.Javascript object>"
            ],
            "application/javascript": [
              "download(\"download_770ca3b8-c3f0-4fbe-8aa4-ee7e185aef85\", \"mutmutresultsNodeCoverage.zip\", 1088)"
            ]
          },
          "metadata": {}
        }
      ]
    },
    {
      "cell_type": "markdown",
      "source": [
        "Todos os mutantes foram mortos na nossa execução."
      ],
      "metadata": {
        "id": "nnxG53ZLXSmW"
      }
    },
    {
      "cell_type": "markdown",
      "source": [
        "###**Execução do mutmut para os critérios de cobertura de arcos**"
      ],
      "metadata": {
        "id": "vijR9OWQWVi4"
      }
    },
    {
      "cell_type": "code",
      "source": [
        "!mkdir src 2>/dev/null\n",
        "!mkdir tests 2>/dev/null\n",
        "%history -n -t 2 -f output\n",
        "%history -n -t 6 -f outputteste\n",
        "!tail  -n +2 output > main.py\n",
        "!tail  -n +2 outputteste > test_main.py\n",
        "!sed -i '1ifrom main import baralho2' test_main.py\n",
        "!mv test_main.py tests\n",
        "\n",
        "!rm output\n",
        "!rm outputteste\n",
        "\n",
        "!touch setup.cfg\n",
        "!echo -e \"[mutmut] \\\n",
        "\\npaths_to_mutate=main.py \\\n",
        "\\ntests_dir=tests/\" \\\n",
        "> setup.cfg"
      ],
      "metadata": {
        "id": "PPd3VOtT_6yL"
      },
      "execution_count": null,
      "outputs": []
    },
    {
      "cell_type": "code",
      "source": [
        "!mutmut run"
      ],
      "metadata": {
        "colab": {
          "base_uri": "https://localhost:8080/"
        },
        "outputId": "9a5394e1-3816-4379-a2fb-491283a393ae",
        "id": "hhD7icUZACgW"
      },
      "execution_count": null,
      "outputs": [
        {
          "output_type": "stream",
          "name": "stdout",
          "text": [
            "\n",
            "- Mutation testing starting -\n",
            "\n",
            "These are the steps:\n",
            "1. A full test suite run will be made to make sure we\n",
            "   can run the tests successfully and we know how long\n",
            "   it takes (to detect infinite loops for example)\n",
            "2. Mutants will be generated and checked\n",
            "\n",
            "Results are stored in .mutmut-cache.\n",
            "Print found mutants with `mutmut results`.\n",
            "\n",
            "Legend for output:\n",
            "🎉 Killed mutants.   The goal is for everything to end up in this bucket.\n",
            "⏰ Timeout.          Test suite took 10 times as long as the baseline so were killed.\n",
            "🤔 Suspicious.       Tests took a long time, but not long enough to be fatal.\n",
            "🙁 Survived.         This means your tests need to be expanded.\n",
            "🔇 Skipped.          Skipped.\n",
            "\n",
            "mutmut cache is out of date, clearing it...\n",
            "1. Running tests without mutations\n",
            "⠏ Running...Done\n",
            "\n",
            "2. Checking mutants\n",
            "⠧ 46/46  🎉 41  ⏰ 0  🤔 1  🙁 4  🔇 0\n"
          ]
        }
      ]
    },
    {
      "cell_type": "code",
      "source": [
        "!mutmut html\n",
        "!zip -r mutmutresultsPairCoverage.zip html\n",
        "files.download('mutmutresultsPairCoverage.zip')\n",
        "\n",
        "#cleanup\n",
        "!rm .mutmut-cache -rf\n",
        "!rm main.py\n",
        "!rm tests/test_main.py"
      ],
      "metadata": {
        "colab": {
          "base_uri": "https://localhost:8080/",
          "height": 69
        },
        "outputId": "0bc9f764-3d16-4153-dd6e-22d656c67c22",
        "id": "gQ3OItYTAMK1"
      },
      "execution_count": null,
      "outputs": [
        {
          "output_type": "stream",
          "name": "stdout",
          "text": [
            "  adding: html/ (stored 0%)\n",
            "  adding: html/main.py.html (deflated 75%)\n",
            "  adding: html/index.html (deflated 41%)\n"
          ]
        },
        {
          "output_type": "display_data",
          "data": {
            "text/plain": [
              "<IPython.core.display.Javascript object>"
            ],
            "application/javascript": [
              "\n",
              "    async function download(id, filename, size) {\n",
              "      if (!google.colab.kernel.accessAllowed) {\n",
              "        return;\n",
              "      }\n",
              "      const div = document.createElement('div');\n",
              "      const label = document.createElement('label');\n",
              "      label.textContent = `Downloading \"${filename}\": `;\n",
              "      div.appendChild(label);\n",
              "      const progress = document.createElement('progress');\n",
              "      progress.max = size;\n",
              "      div.appendChild(progress);\n",
              "      document.body.appendChild(div);\n",
              "\n",
              "      const buffers = [];\n",
              "      let downloaded = 0;\n",
              "\n",
              "      const channel = await google.colab.kernel.comms.open(id);\n",
              "      // Send a message to notify the kernel that we're ready.\n",
              "      channel.send({})\n",
              "\n",
              "      for await (const message of channel.messages) {\n",
              "        // Send a message to notify the kernel that we're ready.\n",
              "        channel.send({})\n",
              "        if (message.buffers) {\n",
              "          for (const buffer of message.buffers) {\n",
              "            buffers.push(buffer);\n",
              "            downloaded += buffer.byteLength;\n",
              "            progress.value = downloaded;\n",
              "          }\n",
              "        }\n",
              "      }\n",
              "      const blob = new Blob(buffers, {type: 'application/binary'});\n",
              "      const a = document.createElement('a');\n",
              "      a.href = window.URL.createObjectURL(blob);\n",
              "      a.download = filename;\n",
              "      div.appendChild(a);\n",
              "      a.click();\n",
              "      div.remove();\n",
              "    }\n",
              "  "
            ]
          },
          "metadata": {}
        },
        {
          "output_type": "display_data",
          "data": {
            "text/plain": [
              "<IPython.core.display.Javascript object>"
            ],
            "application/javascript": [
              "download(\"download_1e5cef64-6957-4c6b-ad43-e543f4f42ac7\", \"mutmutresultsPairCoverage.zip\", 1181)"
            ]
          },
          "metadata": {}
        }
      ]
    },
    {
      "cell_type": "markdown",
      "source": [
        "###**Execução do mutmut para o critério de pares de arcos**"
      ],
      "metadata": {
        "id": "1pH1xaTWWvLG"
      }
    },
    {
      "cell_type": "code",
      "source": [
        "!mkdir src 2>/dev/null\n",
        "!mkdir tests 2>/dev/null\n",
        "%history -n -t 2 -f output\n",
        "%history -n -t 8 -f outputteste\n",
        "!tail  -n +2 output > main.py\n",
        "!tail  -n +2 outputteste > test_main.py\n",
        "!sed -i '1ifrom main import baralho2' test_main.py\n",
        "!mv test_main.py tests\n",
        "\n",
        "!rm output\n",
        "!rm outputteste\n",
        "\n",
        "!touch setup.cfg\n",
        "!echo -e \"[mutmut] \\\n",
        "\\npaths_to_mutate=main.py \\\n",
        "\\ntests_dir=tests/\" \\\n",
        "> setup.cfg"
      ],
      "metadata": {
        "id": "qNPnqDym_7TN"
      },
      "execution_count": null,
      "outputs": []
    },
    {
      "cell_type": "code",
      "source": [
        "!mutmut run"
      ],
      "metadata": {
        "colab": {
          "base_uri": "https://localhost:8080/"
        },
        "outputId": "e724ae7b-0354-407f-a038-8ae671592b9e",
        "id": "65k6U-6mADbu"
      },
      "execution_count": null,
      "outputs": [
        {
          "output_type": "stream",
          "name": "stdout",
          "text": [
            "\n",
            "- Mutation testing starting -\n",
            "\n",
            "These are the steps:\n",
            "1. A full test suite run will be made to make sure we\n",
            "   can run the tests successfully and we know how long\n",
            "   it takes (to detect infinite loops for example)\n",
            "2. Mutants will be generated and checked\n",
            "\n",
            "Results are stored in .mutmut-cache.\n",
            "Print found mutants with `mutmut results`.\n",
            "\n",
            "Legend for output:\n",
            "🎉 Killed mutants.   The goal is for everything to end up in this bucket.\n",
            "⏰ Timeout.          Test suite took 10 times as long as the baseline so were killed.\n",
            "🤔 Suspicious.       Tests took a long time, but not long enough to be fatal.\n",
            "🙁 Survived.         This means your tests need to be expanded.\n",
            "🔇 Skipped.          Skipped.\n",
            "\n",
            "mutmut cache is out of date, clearing it...\n",
            "1. Running tests without mutations\n",
            "⠏ Running...Done\n",
            "\n",
            "2. Checking mutants\n",
            "⠦ 46/46  🎉 44  ⏰ 0  🤔 0  🙁 2  🔇 0\n"
          ]
        }
      ]
    },
    {
      "cell_type": "code",
      "source": [
        "!mutmut html\n",
        "!zip -r mutmutresultsEdgePair.zip html\n",
        "files.download('mutmutresultsEdgePair.zip')\n",
        "\n",
        "#cleanup\n",
        "!rm .mutmut-cache -rf\n",
        "!rm main.py\n",
        "!rm tests/test_main.py"
      ],
      "metadata": {
        "colab": {
          "base_uri": "https://localhost:8080/",
          "height": 69
        },
        "outputId": "f8006485-d7ff-4abe-df0b-dba3ce7f9d81",
        "id": "XtbTKt0QANDM"
      },
      "execution_count": null,
      "outputs": [
        {
          "output_type": "stream",
          "name": "stdout",
          "text": [
            "  adding: html/ (stored 0%)\n",
            "  adding: html/main.py.html (deflated 59%)\n",
            "  adding: html/index.html (deflated 41%)\n"
          ]
        },
        {
          "output_type": "display_data",
          "data": {
            "text/plain": [
              "<IPython.core.display.Javascript object>"
            ],
            "application/javascript": [
              "\n",
              "    async function download(id, filename, size) {\n",
              "      if (!google.colab.kernel.accessAllowed) {\n",
              "        return;\n",
              "      }\n",
              "      const div = document.createElement('div');\n",
              "      const label = document.createElement('label');\n",
              "      label.textContent = `Downloading \"${filename}\": `;\n",
              "      div.appendChild(label);\n",
              "      const progress = document.createElement('progress');\n",
              "      progress.max = size;\n",
              "      div.appendChild(progress);\n",
              "      document.body.appendChild(div);\n",
              "\n",
              "      const buffers = [];\n",
              "      let downloaded = 0;\n",
              "\n",
              "      const channel = await google.colab.kernel.comms.open(id);\n",
              "      // Send a message to notify the kernel that we're ready.\n",
              "      channel.send({})\n",
              "\n",
              "      for await (const message of channel.messages) {\n",
              "        // Send a message to notify the kernel that we're ready.\n",
              "        channel.send({})\n",
              "        if (message.buffers) {\n",
              "          for (const buffer of message.buffers) {\n",
              "            buffers.push(buffer);\n",
              "            downloaded += buffer.byteLength;\n",
              "            progress.value = downloaded;\n",
              "          }\n",
              "        }\n",
              "      }\n",
              "      const blob = new Blob(buffers, {type: 'application/binary'});\n",
              "      const a = document.createElement('a');\n",
              "      a.href = window.URL.createObjectURL(blob);\n",
              "      a.download = filename;\n",
              "      div.appendChild(a);\n",
              "      a.click();\n",
              "      div.remove();\n",
              "    }\n",
              "  "
            ]
          },
          "metadata": {}
        },
        {
          "output_type": "display_data",
          "data": {
            "text/plain": [
              "<IPython.core.display.Javascript object>"
            ],
            "application/javascript": [
              "download(\"download_d70bb5a0-bb15-4607-8405-f38f79bfe9c5\", \"mutmutresultsEdgePair.zip\", 1009)"
            ]
          },
          "metadata": {}
        }
      ]
    },
    {
      "cell_type": "markdown",
      "source": [
        "###**Execução do mutmut para o critério de caminhos primos**"
      ],
      "metadata": {
        "id": "BC37Q1y_z24x"
      }
    },
    {
      "cell_type": "code",
      "source": [
        "!mkdir src 2>/dev/null\n",
        "!mkdir tests 2>/dev/null\n",
        "%history -n -t 2 -f output\n",
        "%history -n -t 12 -f outputteste\n",
        "!tail  -n +2 output > main.py\n",
        "!tail  -n +2 outputteste > test_main.py\n",
        "!sed -i '1ifrom main import baralho2' test_main.py\n",
        "!mv test_main.py tests\n",
        "\n",
        "!rm output\n",
        "!rm outputteste\n",
        "\n",
        "!touch setup.cfg\n",
        "!echo -e \"[mutmut] \\\n",
        "\\npaths_to_mutate=main.py \\\n",
        "\\ntests_dir=tests/\" \\\n",
        "> setup.cfg"
      ],
      "metadata": {
        "id": "kv06BbUMz242"
      },
      "execution_count": null,
      "outputs": []
    },
    {
      "cell_type": "code",
      "source": [
        "!mutmut run"
      ],
      "metadata": {
        "colab": {
          "base_uri": "https://localhost:8080/"
        },
        "outputId": "01d5f68e-f188-4c91-a112-069565ee3317",
        "id": "nY67lIX-z243"
      },
      "execution_count": null,
      "outputs": [
        {
          "output_type": "stream",
          "name": "stdout",
          "text": [
            "\n",
            "- Mutation testing starting -\n",
            "\n",
            "These are the steps:\n",
            "1. A full test suite run will be made to make sure we\n",
            "   can run the tests successfully and we know how long\n",
            "   it takes (to detect infinite loops for example)\n",
            "2. Mutants will be generated and checked\n",
            "\n",
            "Results are stored in .mutmut-cache.\n",
            "Print found mutants with `mutmut results`.\n",
            "\n",
            "Legend for output:\n",
            "🎉 Killed mutants.   The goal is for everything to end up in this bucket.\n",
            "⏰ Timeout.          Test suite took 10 times as long as the baseline so were killed.\n",
            "🤔 Suspicious.       Tests took a long time, but not long enough to be fatal.\n",
            "🙁 Survived.         This means your tests need to be expanded.\n",
            "🔇 Skipped.          Skipped.\n",
            "\n",
            "mutmut cache is out of date, clearing it...\n",
            "1. Running tests without mutations\n",
            "⠏ Running...Done\n",
            "\n",
            "2. Checking mutants\n",
            "⠧ 46/46  🎉 45  ⏰ 0  🤔 0  🙁 1  🔇 0\n"
          ]
        }
      ]
    },
    {
      "cell_type": "code",
      "source": [
        "!mutmut html\n",
        "!zip -r mutmutresultsPrimePaths.zip html\n",
        "files.download('mutmutresultsPrimePaths.zip')\n",
        "\n",
        "#cleanup\n",
        "!rm .mutmut-cache -rf\n",
        "!rm main.py\n",
        "!rm tests/test_main.py"
      ],
      "metadata": {
        "colab": {
          "base_uri": "https://localhost:8080/",
          "height": 69
        },
        "outputId": "f8006485-d7ff-4abe-df0b-dba3ce7f9d81",
        "id": "176qk6Ugz243"
      },
      "execution_count": null,
      "outputs": [
        {
          "output_type": "stream",
          "name": "stdout",
          "text": [
            "  adding: html/ (stored 0%)\n",
            "  adding: html/main.py.html (deflated 59%)\n",
            "  adding: html/index.html (deflated 41%)\n"
          ]
        },
        {
          "output_type": "display_data",
          "data": {
            "text/plain": [
              "<IPython.core.display.Javascript object>"
            ],
            "application/javascript": [
              "\n",
              "    async function download(id, filename, size) {\n",
              "      if (!google.colab.kernel.accessAllowed) {\n",
              "        return;\n",
              "      }\n",
              "      const div = document.createElement('div');\n",
              "      const label = document.createElement('label');\n",
              "      label.textContent = `Downloading \"${filename}\": `;\n",
              "      div.appendChild(label);\n",
              "      const progress = document.createElement('progress');\n",
              "      progress.max = size;\n",
              "      div.appendChild(progress);\n",
              "      document.body.appendChild(div);\n",
              "\n",
              "      const buffers = [];\n",
              "      let downloaded = 0;\n",
              "\n",
              "      const channel = await google.colab.kernel.comms.open(id);\n",
              "      // Send a message to notify the kernel that we're ready.\n",
              "      channel.send({})\n",
              "\n",
              "      for await (const message of channel.messages) {\n",
              "        // Send a message to notify the kernel that we're ready.\n",
              "        channel.send({})\n",
              "        if (message.buffers) {\n",
              "          for (const buffer of message.buffers) {\n",
              "            buffers.push(buffer);\n",
              "            downloaded += buffer.byteLength;\n",
              "            progress.value = downloaded;\n",
              "          }\n",
              "        }\n",
              "      }\n",
              "      const blob = new Blob(buffers, {type: 'application/binary'});\n",
              "      const a = document.createElement('a');\n",
              "      a.href = window.URL.createObjectURL(blob);\n",
              "      a.download = filename;\n",
              "      div.appendChild(a);\n",
              "      a.click();\n",
              "      div.remove();\n",
              "    }\n",
              "  "
            ]
          },
          "metadata": {}
        },
        {
          "output_type": "display_data",
          "data": {
            "text/plain": [
              "<IPython.core.display.Javascript object>"
            ],
            "application/javascript": [
              "download(\"download_d70bb5a0-bb15-4607-8405-f38f79bfe9c5\", \"mutmutresultsEdgePair.zip\", 1009)"
            ]
          },
          "metadata": {}
        }
      ]
    },
    {
      "cell_type": "markdown",
      "source": [],
      "metadata": {
        "id": "Q16I1664TjNK"
      }
    }
  ]
}