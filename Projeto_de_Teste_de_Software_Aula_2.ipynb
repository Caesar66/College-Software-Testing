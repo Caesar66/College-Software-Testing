{
  "nbformat": 4,
  "nbformat_minor": 0,
  "metadata": {
    "colab": {
      "provenance": []
    },
    "kernelspec": {
      "name": "python3",
      "display_name": "Python 3"
    },
    "language_info": {
      "name": "python"
    }
  },
  "cells": [
    {
      "cell_type": "markdown",
      "source": [
        "### **Importações**"
      ],
      "metadata": {
        "id": "vJrkgGjrSEzH"
      }
    },
    {
      "cell_type": "code",
      "source": [
        "import unittest"
      ],
      "metadata": {
        "id": "2PdvC46UKk4d"
      },
      "execution_count": null,
      "outputs": []
    },
    {
      "cell_type": "markdown",
      "source": [
        "### **Códigos dos Programas**"
      ],
      "metadata": {
        "id": "D5SbTAfURQyh"
      }
    },
    {
      "cell_type": "code",
      "execution_count": null,
      "metadata": {
        "id": "96ugoYzhXlRk"
      },
      "outputs": [],
      "source": [
        "def TipoTriangulo1(a,b,c):\n",
        "\n",
        "    if (a <= 0 or b <= 0 or c <= 0):\n",
        "        return \"invalido\"\n",
        "    \n",
        "\t\t\n",
        "    if (a+b >= c and a+c >= b and b+c >= a):\n",
        "        if (a==b and b == c):\n",
        "            return \"equilatero\"\n",
        "        if (a==b or a==c or b==c):\n",
        "            return \"isosceles\"\n",
        "        return \"escaleno\"\n",
        "    return \"invalido\""
      ]
    },
    {
      "cell_type": "code",
      "source": [
        "def TipoTriangulo2(a,b,c):\n",
        "\n",
        "    if (a <= 0 or b <= 0 or c <= 0):\n",
        "        return \"invalido\"\n",
        "    \n",
        "\t\t\n",
        "    if (a+b > c and a+c > b and b+c >= a):\n",
        "        if (a==b and b == c):\n",
        "            return \"equilatero\"\n",
        "        if (a==b or a==c or b==c):\n",
        "            return \"isosceles\"\n",
        "        return \"escaleno\"\n",
        "    return \"invalido\"\n"
      ],
      "metadata": {
        "id": "QFPWHwP2X0H5"
      },
      "execution_count": null,
      "outputs": []
    },
    {
      "cell_type": "code",
      "source": [
        "def TipoTriangulo3(a,b,c):\n",
        "\n",
        "    if (a <= 0 or b <= 0 or c < 0):\n",
        "        return \"invalido\"\n",
        "    \n",
        "\t\t\n",
        "    if (a+b > c and a+c > b and b+c > a):\n",
        "        if (a==b and b == c):\n",
        "            return \"equilatero\"\n",
        "        if (a==b or a==c or b==c):\n",
        "            return \"isosceles\"\n",
        "        return \"escaleno\"\n",
        "    return \"invalido\"\n"
      ],
      "metadata": {
        "id": "Vmq2f7IdX4In"
      },
      "execution_count": null,
      "outputs": []
    },
    {
      "cell_type": "markdown",
      "source": [
        "### **Automação para testes feita por nós mesmos**"
      ],
      "metadata": {
        "id": "QkRs9sZwRc_-"
      }
    },
    {
      "cell_type": "code",
      "source": [
        "class TestObj():\n",
        "  def __init__(self, caso, expected):\n",
        "    self.caso = caso\n",
        "    self.expected = expected\n",
        "\n",
        "casos = [TestObj([-1,-1,-1],\"invalido\"),\n",
        "         TestObj([2,4,2], \"invalido\"),\n",
        "         TestObj([3,4,6], \"escaleno\"),\n",
        "         TestObj([8,5,9], \"escaleno\"),\n",
        "         TestObj([4,5,4], \"isosceles\"),\n",
        "         TestObj([9,1,9], \"isosceles\"),\n",
        "         TestObj([1,1,1], \"equilatero\"),\n",
        "         TestObj([100,100,100], \"equilatero\"),\n",
        "         TestObj([0,1,0], \"invalido\"),\n",
        "         TestObj([1,1,0], \"invalido\"),\n",
        "         TestObj([4,2,2], \"invalido\"),\n",
        "         TestObj([0,0,0], \"invalido\"),\n",
        "         TestObj([2**31,2**31,1], \"isosceles\"),\n",
        "         TestObj([1,5,1], \"invalido\"),\n",
        "         TestObj([1,0.5,0.9], \"escaleno\"),\n",
        "         #TestObj([1,5], \"invalido\")\n",
        "]\n"
      ],
      "metadata": {
        "id": "VQrXIHyhX5Rf"
      },
      "execution_count": null,
      "outputs": []
    },
    {
      "cell_type": "markdown",
      "source": [
        "### **Teste do Programa *TipoTriangulo1*** "
      ],
      "metadata": {
        "id": "cm8ZV8_zRoi8"
      }
    },
    {
      "cell_type": "code",
      "source": [
        "for test in casos:\n",
        "  try:\n",
        "    print(\"Testando caso\", test.caso)\n",
        "    result = TipoTriangulo1(test.caso[0], test.caso[1], test.caso[2])\n",
        "    if result == test.expected:\n",
        "      print(\"ok\")\n",
        "    else:\n",
        "      print(f\"falhou! esperado: {test.expected}, obtido: {result}\")\n",
        "  except Exception as e:\n",
        "    print(\"gerou exceçao: \" + str(e))"
      ],
      "metadata": {
        "colab": {
          "base_uri": "https://localhost:8080/"
        },
        "id": "s_NFoJJbYMff",
        "outputId": "8e49344c-0e90-4c01-b4e6-5a313c778829"
      },
      "execution_count": null,
      "outputs": [
        {
          "output_type": "stream",
          "name": "stdout",
          "text": [
            "Testando caso [-1, -1, -1]\n",
            "ok\n",
            "Testando caso [2, 4, 2]\n",
            "falhou! esperado: invalido, obtido: isosceles\n",
            "Testando caso [3, 4, 6]\n",
            "ok\n",
            "Testando caso [8, 5, 9]\n",
            "ok\n",
            "Testando caso [4, 5, 4]\n",
            "ok\n",
            "Testando caso [9, 1, 9]\n",
            "ok\n",
            "Testando caso [1, 1, 1]\n",
            "ok\n",
            "Testando caso [100, 100, 100]\n",
            "ok\n",
            "Testando caso [0, 1, 0]\n",
            "ok\n",
            "Testando caso [1, 1, 0]\n",
            "ok\n",
            "Testando caso [4, 2, 2]\n",
            "falhou! esperado: invalido, obtido: isosceles\n",
            "Testando caso [0, 0, 0]\n",
            "ok\n",
            "Testando caso [2147483648, 2147483648, 1]\n",
            "ok\n",
            "Testando caso [1, 5, 1]\n",
            "ok\n",
            "Testando caso [1, 0.5, 0.9]\n",
            "ok\n"
          ]
        }
      ]
    },
    {
      "cell_type": "markdown",
      "source": [
        "### **Teste do Programa *TipoTriangulo2*** "
      ],
      "metadata": {
        "id": "3HOGMMXkRzZi"
      }
    },
    {
      "cell_type": "code",
      "source": [
        "for test in casos:\n",
        "  try:\n",
        "    print(\"Testando caso\", test.caso)\n",
        "    result = TipoTriangulo2(test.caso[0], test.caso[1], test.caso[2])\n",
        "    if result == test.expected:\n",
        "      print(\"ok\")\n",
        "    else:\n",
        "      print(f\"falhou! esperado: {test.expected}, obtido: {result}\")\n",
        "  except Exception as e:\n",
        "    print(\"gerou exceçao: \" + str(e))"
      ],
      "metadata": {
        "colab": {
          "base_uri": "https://localhost:8080/"
        },
        "id": "gIHt-HQIYg_A",
        "outputId": "9e1dbe65-d228-4503-d7de-988a4e874c40"
      },
      "execution_count": null,
      "outputs": [
        {
          "output_type": "stream",
          "name": "stdout",
          "text": [
            "Testando caso [-1, -1, -1]\n",
            "ok\n",
            "Testando caso [2, 4, 2]\n",
            "ok\n",
            "Testando caso [3, 4, 6]\n",
            "ok\n",
            "Testando caso [8, 5, 9]\n",
            "ok\n",
            "Testando caso [4, 5, 4]\n",
            "ok\n",
            "Testando caso [9, 1, 9]\n",
            "ok\n",
            "Testando caso [1, 1, 1]\n",
            "ok\n",
            "Testando caso [100, 100, 100]\n",
            "ok\n",
            "Testando caso [0, 1, 0]\n",
            "ok\n",
            "Testando caso [1, 1, 0]\n",
            "ok\n",
            "Testando caso [4, 2, 2]\n",
            "falhou! esperado: invalido, obtido: isosceles\n",
            "Testando caso [0, 0, 0]\n",
            "ok\n",
            "Testando caso [2147483648, 2147483648, 1]\n",
            "ok\n",
            "Testando caso [1, 5, 1]\n",
            "ok\n",
            "Testando caso [1, 0.5, 0.9]\n",
            "ok\n"
          ]
        }
      ]
    },
    {
      "cell_type": "markdown",
      "source": [
        "### **Teste do Programa *TipoTriangulo3*** "
      ],
      "metadata": {
        "id": "WXgIoUj6R1pL"
      }
    },
    {
      "cell_type": "code",
      "source": [
        "for test in casos:\n",
        "  try:\n",
        "    print(\"Testando caso\", test.caso)\n",
        "    result = TipoTriangulo3(test.caso[0], test.caso[1], test.caso[2])\n",
        "    if result == test.expected:\n",
        "      print(\"ok\")\n",
        "    else:\n",
        "      print(f\"falhou! esperado: {test.expected}, obtido: {result}\")\n",
        "  except Exception as e:\n",
        "    print(\"gerou exceçao: \" + str(e))"
      ],
      "metadata": {
        "colab": {
          "base_uri": "https://localhost:8080/"
        },
        "id": "_06o9e81en3i",
        "outputId": "40c7ac6d-0c5b-4201-b1af-1a6def53e1ca"
      },
      "execution_count": null,
      "outputs": [
        {
          "output_type": "stream",
          "name": "stdout",
          "text": [
            "Testando caso [-1, -1, -1]\n",
            "ok\n",
            "Testando caso [2, 4, 2]\n",
            "ok\n",
            "Testando caso [3, 4, 6]\n",
            "ok\n",
            "Testando caso [8, 5, 9]\n",
            "ok\n",
            "Testando caso [4, 5, 4]\n",
            "ok\n",
            "Testando caso [9, 1, 9]\n",
            "ok\n",
            "Testando caso [1, 1, 1]\n",
            "ok\n",
            "Testando caso [100, 100, 100]\n",
            "ok\n",
            "Testando caso [0, 1, 0]\n",
            "ok\n",
            "Testando caso [1, 1, 0]\n",
            "ok\n",
            "Testando caso [4, 2, 2]\n",
            "ok\n",
            "Testando caso [0, 0, 0]\n",
            "ok\n",
            "Testando caso [2147483648, 2147483648, 1]\n",
            "ok\n",
            "Testando caso [1, 5, 1]\n",
            "ok\n",
            "Testando caso [1, 0.5, 0.9]\n",
            "ok\n"
          ]
        }
      ]
    },
    {
      "cell_type": "markdown",
      "source": [
        "### **Utilização da biblioteca PyTest**"
      ],
      "metadata": {
        "id": "I619_uNLR7Tl"
      }
    },
    {
      "cell_type": "code",
      "source": [
        "class TrianguloTeste(unittest.TestCase):\n",
        "  def setUp(self):\n",
        "    pass\n",
        "\n",
        "  def test_TipoTriangulo1(self):\n",
        "    '''Testa casos para programa TipoTriangulo1'''\n",
        "    for i in range(15):\n",
        "      result = TipoTriangulo1(casos[i].caso[0], casos[i].caso[1], casos[i].caso[2])\n",
        "      self.assertEqual(result, casos[i].expected)\n",
        "    self.assertRaises(Exception, TipoTriangulo1, casos[-1].caso[0], casos[-1].caso[1], None)\n",
        "\n",
        "  def test_TipoTriangulo2(self):\n",
        "    '''Testa casos para programa TipoTriangulo2'''\n",
        "    for i in range(15):\n",
        "      result = TipoTriangulo2(casos[i].caso[0], casos[i].caso[1], casos[i].caso[2])\n",
        "      self.assertEqual(result, casos[i].expected)\n",
        "    self.assertRaises(Exception, TipoTriangulo2, casos[-1].caso[0], casos[-1].caso[1], None)\n",
        "\n",
        "  def test_TipoTriangulo3(self):\n",
        "    '''Testa casos para programa TipoTriangulo3'''\n",
        "    for i in range(15):\n",
        "      result = TipoTriangulo3(casos[i].caso[0], casos[i].caso[1], casos[i].caso[2])\n",
        "      self.assertEqual(result, casos[i].expected)\n",
        "    self.assertRaises(Exception, TipoTriangulo3, casos[-1].caso[0], casos[-1].caso[1], None)\n",
        "\n",
        "unittest.main(argv=[''], verbosity=2, exit=False)"
      ],
      "metadata": {
        "colab": {
          "base_uri": "https://localhost:8080/"
        },
        "id": "E79yjH6qMy08",
        "outputId": "d7779efc-53cd-4ca4-87b6-81337bcbfc23"
      },
      "execution_count": null,
      "outputs": [
        {
          "output_type": "stream",
          "name": "stderr",
          "text": [
            "test_TipoTriangulo1 (__main__.TrianguloTeste)\n",
            "Testa casos para programa TipoTriangulo1 ... FAIL\n",
            "test_TipoTriangulo2 (__main__.TrianguloTeste)\n",
            "Testa casos para programa TipoTriangulo2 ... FAIL\n",
            "test_TipoTriangulo3 (__main__.TrianguloTeste)\n",
            "Testa casos para programa TipoTriangulo3 ... ok\n",
            "\n",
            "======================================================================\n",
            "FAIL: test_TipoTriangulo1 (__main__.TrianguloTeste)\n",
            "Testa casos para programa TipoTriangulo1\n",
            "----------------------------------------------------------------------\n",
            "Traceback (most recent call last):\n",
            "  File \"<ipython-input-9-8c3a07d7ad88>\", line 9, in test_TipoTriangulo1\n",
            "    self.assertEqual(result, casos[i].expected)\n",
            "AssertionError: 'isosceles' != 'invalido'\n",
            "- isosceles\n",
            "+ invalido\n",
            "\n",
            "\n",
            "======================================================================\n",
            "FAIL: test_TipoTriangulo2 (__main__.TrianguloTeste)\n",
            "Testa casos para programa TipoTriangulo2\n",
            "----------------------------------------------------------------------\n",
            "Traceback (most recent call last):\n",
            "  File \"<ipython-input-9-8c3a07d7ad88>\", line 16, in test_TipoTriangulo2\n",
            "    self.assertEqual(result, casos[i].expected)\n",
            "AssertionError: 'isosceles' != 'invalido'\n",
            "- isosceles\n",
            "+ invalido\n",
            "\n",
            "\n",
            "----------------------------------------------------------------------\n",
            "Ran 3 tests in 0.035s\n",
            "\n",
            "FAILED (failures=2)\n"
          ]
        },
        {
          "output_type": "execute_result",
          "data": {
            "text/plain": [
              "<unittest.main.TestProgram at 0x7f3af0128be0>"
            ]
          },
          "metadata": {},
          "execution_count": 9
        }
      ]
    },
    {
      "cell_type": "code",
      "source": [],
      "metadata": {
        "id": "ksYwmjWTa_00"
      },
      "execution_count": null,
      "outputs": []
    },
    {
      "cell_type": "markdown",
      "source": [
        "### **Comentário Final**\n",
        "\n",
        "A complexidade dos casos de testes foi bem mais avançada do que pensavamos e observamos que ela é ampliada de acordo com a complexidade dos programas. O sistema de automação é crucial para um trabalho profissional pois não só poupa tempo mas também fornece uma ferramenta testada anteriormente, disponibilizando mais tempo para a feitoria e revisão dos casos de teste.\n",
        "\n"
      ],
      "metadata": {
        "id": "OcSshvdmK1J-"
      }
    }
  ]
}