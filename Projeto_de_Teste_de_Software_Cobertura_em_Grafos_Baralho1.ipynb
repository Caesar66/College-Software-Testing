{
  "nbformat": 4,
  "nbformat_minor": 0,
  "metadata": {
    "colab": {
      "provenance": []
    },
    "kernelspec": {
      "name": "python3",
      "display_name": "Python 3"
    },
    "language_info": {
      "name": "python"
    }
  },
  "cells": [
    {
      "cell_type": "markdown",
      "source": [
        "### **Grupo 5**\n",
        "César Silva <br>\n",
        "João Maia <br>\n",
        "Rodrigo Siqueira"
      ],
      "metadata": {
        "id": "QWsW6e9nHt7r"
      }
    },
    {
      "cell_type": "markdown",
      "source": [
        "### **Instrução de execução**\n",
        "\n",
        "Se estiver acessando pelo link, só apertar **Runtime** > **Run All**.\n",
        "Se estiver via arquivo, carregar no Colab e depois executar a instrução anterior."
      ],
      "metadata": {
        "id": "ZSr_SUbrDO1R"
      }
    },
    {
      "cell_type": "markdown",
      "source": [
        "### **Importações**"
      ],
      "metadata": {
        "id": "EPZCG15V_cRe"
      }
    },
    {
      "cell_type": "code",
      "source": [
        "!pip install pytest\n",
        "!pip install mutmut\n",
        "from google.colab import files"
      ],
      "metadata": {
        "id": "DUnJ0wFtAez0",
        "colab": {
          "base_uri": "https://localhost:8080/"
        },
        "outputId": "d2f3df99-0678-425e-dc75-432d98193e73"
      },
      "execution_count": null,
      "outputs": [
        {
          "output_type": "stream",
          "name": "stdout",
          "text": [
            "Looking in indexes: https://pypi.org/simple, https://us-python.pkg.dev/colab-wheels/public/simple/\n",
            "Requirement already satisfied: pytest in /usr/local/lib/python3.10/dist-packages (7.2.2)\n",
            "Requirement already satisfied: attrs>=19.2.0 in /usr/local/lib/python3.10/dist-packages (from pytest) (23.1.0)\n",
            "Requirement already satisfied: iniconfig in /usr/local/lib/python3.10/dist-packages (from pytest) (2.0.0)\n",
            "Requirement already satisfied: packaging in /usr/local/lib/python3.10/dist-packages (from pytest) (23.1)\n",
            "Requirement already satisfied: pluggy<2.0,>=0.12 in /usr/local/lib/python3.10/dist-packages (from pytest) (1.2.0)\n",
            "Requirement already satisfied: exceptiongroup>=1.0.0rc8 in /usr/local/lib/python3.10/dist-packages (from pytest) (1.1.1)\n",
            "Requirement already satisfied: tomli>=1.0.0 in /usr/local/lib/python3.10/dist-packages (from pytest) (2.0.1)\n",
            "Looking in indexes: https://pypi.org/simple, https://us-python.pkg.dev/colab-wheels/public/simple/\n",
            "Requirement already satisfied: mutmut in /usr/local/lib/python3.10/dist-packages (2.4.3)\n",
            "Requirement already satisfied: glob2 in /usr/local/lib/python3.10/dist-packages (from mutmut) (0.7)\n",
            "Requirement already satisfied: parso in /usr/local/lib/python3.10/dist-packages (from mutmut) (0.8.3)\n",
            "Requirement already satisfied: click in /usr/local/lib/python3.10/dist-packages (from mutmut) (8.1.3)\n",
            "Requirement already satisfied: pony in /usr/local/lib/python3.10/dist-packages (from mutmut) (0.7.16)\n",
            "Requirement already satisfied: junit-xml==1.8 in /usr/local/lib/python3.10/dist-packages (from mutmut) (1.8)\n",
            "Requirement already satisfied: toml in /usr/local/lib/python3.10/dist-packages (from mutmut) (0.10.2)\n",
            "Requirement already satisfied: six in /usr/local/lib/python3.10/dist-packages (from junit-xml==1.8->mutmut) (1.16.0)\n"
          ]
        }
      ]
    },
    {
      "cell_type": "markdown",
      "source": [
        "Como explicamos, escolhemos o mutmut devido ao fato de ser manutenido e ter uma sintaxe razoalvemente simples."
      ],
      "metadata": {
        "id": "ZMD83seF_kCI"
      }
    },
    {
      "cell_type": "markdown",
      "source": [
        "### **Solução Problema do Baralho**"
      ],
      "metadata": {
        "id": "OGjFOYX0_tEW"
      }
    },
    {
      "cell_type": "code",
      "execution_count": null,
      "metadata": {
        "id": "r-Dw6XF9jfpD"
      },
      "outputs": [],
      "source": [
        "def baralho1(entrada):\n",
        "  cartas = []\n",
        "  for i in range(0,len(entrada),3):\n",
        "    cartas = cartas + [entrada[i:i+3]]\n",
        "  cartas.sort()\n",
        "  #print(cartas)\n",
        "\n",
        "  copas = 13\n",
        "  espadas = 13\n",
        "  ouros = 13\n",
        "  paus = 13\n",
        "\n",
        "  valor = '01'\n",
        "  i = 0\n",
        "  carta_anterior = ''\n",
        "  #print(int(cartas[-1][:2]))\n",
        "  while int(valor) <= 13:\n",
        "    while i < len(cartas) and cartas[i][:2] == valor:\n",
        "      naipe = cartas[i][2]\n",
        "      if naipe == 'C':\n",
        "        copas = 'erro' if (carta_anterior == cartas[i] or copas == 'erro') else copas - 1\n",
        "      elif naipe == 'E':\n",
        "        espadas = 'erro' if (carta_anterior == cartas[i] or espadas == 'erro') else espadas - 1\n",
        "      elif naipe == 'P':\n",
        "        paus = 'erro' if (carta_anterior == cartas[i] or paus == 'erro') else paus - 1\n",
        "      else:\n",
        "        ouros = 'erro' if (carta_anterior == cartas[i] or ouros == 'erro') else ouros - 1\n",
        "      carta_anterior = cartas[i]\n",
        "      i = i + 1\n",
        "    valor = str(int(valor) + 1)\n",
        "    if len(valor) == 1:\n",
        "        valor = '0' + valor\n",
        "  return [copas, espadas, ouros, paus]"
      ]
    },
    {
      "cell_type": "markdown",
      "source": [
        "### **Criação do Casos de Testes**"
      ],
      "metadata": {
        "id": "voALbMAqAdgJ"
      }
    },
    {
      "cell_type": "markdown",
      "source": [
        "Estamos usando os mesmos casos de teste do programa baralho2."
      ],
      "metadata": {
        "id": "6na1tXiyENQp"
      }
    },
    {
      "cell_type": "markdown",
      "source": [
        "Critério de Teste: **Node Coverage**"
      ],
      "metadata": {
        "id": "P63fmVqjwzOM"
      }
    },
    {
      "cell_type": "code",
      "source": [
        "import unittest\n",
        "\n",
        "class testeBaralhoNodeCoverage(unittest.TestCase):\n",
        "  def setUp(self):\n",
        "    pass\n",
        "\n",
        "  #Teste 1\n",
        "  def test1_baralho1(self):\n",
        "    result = baralho1(\"11P11P01C02C01U02U03U04U\")\n",
        "    self.assertEqual(result, [11, 13, 9, 'erro'])\n",
        "    self.assertRaises(Exception, baralho1, None)\n",
        "  def test2_baralho1(self):\n",
        "    result = baralho1(\"01C02C03C04C05C06C07C08C09C10C11C12C13C01E01E02E02E03E01U02U03U04U01P02P03P\")\n",
        "    self.assertEqual(result, [0, 'erro', 9, 10])\n",
        "    self.assertRaises(Exception, baralho1, None)\n",
        "\n",
        "  def test3_baralho1(self):\n",
        "    result = baralho1(\"01C01C12C12C03E02U02U03U03U04P04P05P05P12P12P\")\n",
        "    self.assertEqual(result, ['erro', 12, 'erro', 'erro'])\n",
        "    self.assertRaises(Exception, baralho1, None)\n"
      ],
      "metadata": {
        "id": "1QM4ZhvdvDN2"
      },
      "execution_count": null,
      "outputs": []
    },
    {
      "cell_type": "markdown",
      "source": [
        "Casos de Teste: **Edge Coverage**"
      ],
      "metadata": {
        "id": "TmABjOf8zdmU"
      }
    },
    {
      "cell_type": "code",
      "source": [
        "import unittest\n",
        "\n",
        "class testeBaralhoEdgeCoverage(unittest.TestCase):\n",
        "  def setUp(self):\n",
        "    pass\n",
        "\n",
        "  #Teste 1\n",
        "  def test1_baralho1(self):\n",
        "    result = baralho1(\"11P11P01C02C01U02U03U04U\")\n",
        "    self.assertEqual(result, [11, 13, 9, 'erro'])\n",
        "    self.assertRaises(Exception, baralho1, None)\n",
        "  def test2_baralho1(self):\n",
        "    result = baralho1(\"01C02C03C04C05C06C07C08C09C10C11C12C13C01E01E02E02E03E01U02U03U04U01P02P03P\")\n",
        "    self.assertEqual(result, [0, 'erro', 9, 10])\n",
        "    self.assertRaises(Exception, baralho1, None)\n",
        "\n",
        "  def test3_baralho1(self):\n",
        "    result = baralho1(\"01C01C12C12C03E02U02U03U03U04P04P05P05P12P12P\")\n",
        "    self.assertEqual(result, ['erro', 12, 'erro', 'erro'])\n",
        "    self.assertRaises(Exception, baralho1, None)"
      ],
      "metadata": {
        "id": "ANKS3np5t48O"
      },
      "execution_count": null,
      "outputs": []
    },
    {
      "cell_type": "markdown",
      "source": [
        "Casos de Teste: **Edge Pair Coverage**"
      ],
      "metadata": {
        "id": "n87zaxpkEHPb"
      }
    },
    {
      "cell_type": "code",
      "source": [
        "import unittest\n",
        "\n",
        "class testeBaralhoEdgePairCoverage(unittest.TestCase):\n",
        "  def setUp(self):\n",
        "    pass\n",
        "\n",
        "  #Teste 1\n",
        "  def test1_baralho1(self):\n",
        "    result = baralho1(\"11P11P01C02C01U02U03U04U\")\n",
        "    self.assertEqual(result, [11, 13, 9, 'erro'])\n",
        "    self.assertRaises(Exception, baralho1, None)\n",
        "  def test2_baralho1(self):\n",
        "    result = baralho1(\"\")\n",
        "    self.assertEqual(result, [13, 13, 13, 13])\n",
        "    self.assertRaises(Exception, baralho1, None)"
      ],
      "metadata": {
        "id": "Edb84BzDxthp"
      },
      "execution_count": null,
      "outputs": []
    },
    {
      "cell_type": "markdown",
      "source": [
        "Casos de Teste: **Prime Path Coverage**"
      ],
      "metadata": {
        "id": "i8cluA8JvADe"
      }
    },
    {
      "cell_type": "code",
      "source": [
        "import unittest\n",
        "\n",
        "class testeBaralhoPrimeCoverage(unittest.TestCase):\n",
        "  def setUp(self):\n",
        "    pass\n",
        "\n",
        "  #Teste 1\n",
        "  def test1_baralho1(self):\n",
        "    result = baralho1(\"01U02C12C01E01E\")\n",
        "    self.assertEqual(result, [11, 'erro', 12, 13])\n",
        "    self.assertRaises(Exception, baralho1, None)\n",
        "\n",
        "  def test2_baralho1(self):\n",
        "    result = baralho1(\"01C01C12C12C03E02U02U04P04P05P05P12P12P\")\n",
        "    self.assertEqual(result, ['erro', 12, 'erro', 'erro'])\n",
        "    self.assertRaises(Exception, baralho1, None)\n",
        "\n",
        "  def test3_baralho1(self):\n",
        "    result = baralho1(\"01C02C02C\")\n",
        "    self.assertEqual(result, ['erro', 13, 13, 13])\n",
        "    self.assertRaises(Exception, baralho1, None)\n",
        "\n",
        "  def test4_baralho1(self):\n",
        "    result = baralho1(\"01C02C03C04C05C06C07C08C09C10C11C12C13C01E02E03E04E05E06E07E08E09E10E11E12E13E01U02U03U04U05U06U07U08U09U10U11U12U13U01P02P03P04P05P06P07P08P09P10P11P12P13P\")\n",
        "    self.assertEqual(result, [0, 0, 0, 0])\n",
        "    self.assertRaises(Exception, baralho1, None)"
      ],
      "metadata": {
        "id": "ZexLgQ9Yg2Bs"
      },
      "execution_count": null,
      "outputs": []
    },
    {
      "cell_type": "code",
      "source": [
        "unittest.main(argv=[''], verbosity=2, exit=False)"
      ],
      "metadata": {
        "colab": {
          "base_uri": "https://localhost:8080/"
        },
        "id": "nJh5Mwl59ruJ",
        "outputId": "0a572c8d-d399-4e7b-d1f7-9c1e236c85c1"
      },
      "execution_count": null,
      "outputs": [
        {
          "output_type": "stream",
          "name": "stderr",
          "text": [
            "test1_baralho1 (__main__.testeBaralhoEdgeCoverage) ... ok\n",
            "test1_baralho1 (__main__.testeBaralhoEdgePairCoverage) ... ok\n",
            "test2_baralho1 (__main__.testeBaralhoEdgePairCoverage) ... ok\n",
            "test1_baralho1 (__main__.testeBaralhoNodeCoverage) ... ok\n",
            "test2_baralho1 (__main__.testeBaralhoNodeCoverage) ... ok\n",
            "test3_baralho1 (__main__.testeBaralhoNodeCoverage) ... ok\n",
            "test1_baralho1 (__main__.testeBaralhoPrimeCoverage) ... ok\n",
            "test2_baralho1 (__main__.testeBaralhoPrimeCoverage) ... ok\n",
            "test3_baralho1 (__main__.testeBaralhoPrimeCoverage) ... ok\n",
            "test4_baralho1 (__main__.testeBaralhoPrimeCoverage) ... ok\n",
            "\n",
            "----------------------------------------------------------------------\n",
            "Ran 10 tests in 0.025s\n",
            "\n",
            "OK\n"
          ]
        },
        {
          "output_type": "execute_result",
          "data": {
            "text/plain": [
              "<unittest.main.TestProgram at 0x7f90095147f0>"
            ]
          },
          "metadata": {},
          "execution_count": 7
        }
      ]
    },
    {
      "cell_type": "markdown",
      "source": [
        "### **Comandos para a execução do *mutmut***"
      ],
      "metadata": {
        "id": "Uy0l_FT-AmZD"
      }
    },
    {
      "cell_type": "markdown",
      "source": [
        "O mutmut tem alguns configurações que são necessarias para que possa executado corretamente, especialmente aqui no colab. Então esses comandos foram criados para que funcionasse. Tais serão configuradas para cada execução."
      ],
      "metadata": {
        "id": "o6F5HjvpAud0"
      }
    },
    {
      "cell_type": "markdown",
      "source": [
        "###**Execução do mutmut para o primeiro critério, Node Coverage**"
      ],
      "metadata": {
        "id": "WfXEt7lkW68C"
      }
    },
    {
      "cell_type": "code",
      "source": [
        "!mkdir src 2>/dev/null\n",
        "!mkdir tests 2>/dev/null\n",
        "%history -n -t 2 -f output\n",
        "%history -n -t 3 -f outputteste\n",
        "!tail  -n +2 output > main.py\n",
        "!tail  -n +2 outputteste > test_main.py\n",
        "!sed -i '1ifrom main import baralho1' test_main.py\n",
        "!mv test_main.py tests\n",
        "\n",
        "!rm output\n",
        "!rm outputteste\n",
        "\n",
        "!touch setup.cfg\n",
        "!echo -e \"[mutmut] \\\n",
        "\\npaths_to_mutate=main.py \\\n",
        "\\ntests_dir=tests/\" \\\n",
        "> setup.cfg"
      ],
      "metadata": {
        "id": "vpvezm_w4KR7"
      },
      "execution_count": null,
      "outputs": []
    },
    {
      "cell_type": "code",
      "source": [
        "!mutmut run"
      ],
      "metadata": {
        "colab": {
          "base_uri": "https://localhost:8080/"
        },
        "id": "sGME1R9ZDbXf",
        "outputId": "798836e9-b312-48f7-e750-a1773eba4638"
      },
      "execution_count": null,
      "outputs": [
        {
          "output_type": "stream",
          "name": "stdout",
          "text": [
            "\n",
            "- Mutation testing starting -\n",
            "\n",
            "These are the steps:\n",
            "1. A full test suite run will be made to make sure we\n",
            "   can run the tests successfully and we know how long\n",
            "   it takes (to detect infinite loops for example)\n",
            "2. Mutants will be generated and checked\n",
            "\n",
            "Results are stored in .mutmut-cache.\n",
            "Print found mutants with `mutmut results`.\n",
            "\n",
            "Legend for output:\n",
            "🎉 Killed mutants.   The goal is for everything to end up in this bucket.\n",
            "⏰ Timeout.          Test suite took 10 times as long as the baseline so were killed.\n",
            "🤔 Suspicious.       Tests took a long time, but not long enough to be fatal.\n",
            "🙁 Survived.         This means your tests need to be expanded.\n",
            "🔇 Skipped.          Skipped.\n",
            "\n",
            "mutmut cache is out of date, clearing it...\n",
            "1. Running tests without mutations\n",
            "⠏ Running...Done\n",
            "\n",
            "2. Checking mutants\n",
            "⠼ 79/79  🎉 70  ⏰ 1  🤔 5  🙁 3  🔇 0\n"
          ]
        }
      ]
    },
    {
      "cell_type": "code",
      "source": [
        "!mutmut html\n",
        "!zip -r mutmutresultsNodeCoverage.zip html\n",
        "files.download('mutmutresultsNodeCoverage.zip')\n",
        "\n",
        "#cleanup\n",
        "!rm .mutmut-cache -rf\n",
        "!rm main.py\n",
        "!rm tests/test_main.py"
      ],
      "metadata": {
        "colab": {
          "base_uri": "https://localhost:8080/",
          "height": 69
        },
        "id": "5-NdsfwxYVNi",
        "outputId": "8b39ff0f-af29-4296-da27-f80ce7b04c04"
      },
      "execution_count": null,
      "outputs": [
        {
          "output_type": "stream",
          "name": "stdout",
          "text": [
            "updating: html/ (stored 0%)\n",
            "updating: html/index.html (deflated 41%)\n",
            "updating: html/main.py.html (deflated 75%)\n"
          ]
        },
        {
          "output_type": "display_data",
          "data": {
            "text/plain": [
              "<IPython.core.display.Javascript object>"
            ],
            "application/javascript": [
              "\n",
              "    async function download(id, filename, size) {\n",
              "      if (!google.colab.kernel.accessAllowed) {\n",
              "        return;\n",
              "      }\n",
              "      const div = document.createElement('div');\n",
              "      const label = document.createElement('label');\n",
              "      label.textContent = `Downloading \"${filename}\": `;\n",
              "      div.appendChild(label);\n",
              "      const progress = document.createElement('progress');\n",
              "      progress.max = size;\n",
              "      div.appendChild(progress);\n",
              "      document.body.appendChild(div);\n",
              "\n",
              "      const buffers = [];\n",
              "      let downloaded = 0;\n",
              "\n",
              "      const channel = await google.colab.kernel.comms.open(id);\n",
              "      // Send a message to notify the kernel that we're ready.\n",
              "      channel.send({})\n",
              "\n",
              "      for await (const message of channel.messages) {\n",
              "        // Send a message to notify the kernel that we're ready.\n",
              "        channel.send({})\n",
              "        if (message.buffers) {\n",
              "          for (const buffer of message.buffers) {\n",
              "            buffers.push(buffer);\n",
              "            downloaded += buffer.byteLength;\n",
              "            progress.value = downloaded;\n",
              "          }\n",
              "        }\n",
              "      }\n",
              "      const blob = new Blob(buffers, {type: 'application/binary'});\n",
              "      const a = document.createElement('a');\n",
              "      a.href = window.URL.createObjectURL(blob);\n",
              "      a.download = filename;\n",
              "      div.appendChild(a);\n",
              "      a.click();\n",
              "      div.remove();\n",
              "    }\n",
              "  "
            ]
          },
          "metadata": {}
        },
        {
          "output_type": "display_data",
          "data": {
            "text/plain": [
              "<IPython.core.display.Javascript object>"
            ],
            "application/javascript": [
              "download(\"download_102d2e73-ff1a-4932-9ade-5c33426c32ba\", \"mutmutresultsNodeCoverage.zip\", 1330)"
            ]
          },
          "metadata": {}
        }
      ]
    },
    {
      "cell_type": "markdown",
      "source": [
        "Todos os mutantes foram mortos na nossa execução."
      ],
      "metadata": {
        "id": "nnxG53ZLXSmW"
      }
    },
    {
      "cell_type": "markdown",
      "source": [
        "###**Execução do mutmut para os critérios de cobertura de arcos**"
      ],
      "metadata": {
        "id": "vijR9OWQWVi4"
      }
    },
    {
      "cell_type": "code",
      "source": [
        "!mkdir src 2>/dev/null\n",
        "!mkdir tests 2>/dev/null\n",
        "%history -n -t 2 -f output\n",
        "%history -n -t 4 -f outputteste\n",
        "!tail  -n +2 output > main.py\n",
        "!tail  -n +2 outputteste > test_main.py\n",
        "!sed -i '1ifrom main import baralho1' test_main.py\n",
        "!mv test_main.py tests\n",
        "\n",
        "!rm output\n",
        "!rm outputteste\n",
        "\n",
        "!touch setup.cfg\n",
        "!echo -e \"[mutmut] \\\n",
        "\\npaths_to_mutate=main.py \\\n",
        "\\ntests_dir=tests/\" \\\n",
        "> setup.cfg"
      ],
      "metadata": {
        "id": "PPd3VOtT_6yL"
      },
      "execution_count": null,
      "outputs": []
    },
    {
      "cell_type": "code",
      "source": [
        "!mutmut run"
      ],
      "metadata": {
        "colab": {
          "base_uri": "https://localhost:8080/"
        },
        "outputId": "b990ce50-6ac6-4769-b919-1d72af34ef5a",
        "id": "hhD7icUZACgW"
      },
      "execution_count": null,
      "outputs": [
        {
          "output_type": "stream",
          "name": "stdout",
          "text": [
            "\n",
            "- Mutation testing starting -\n",
            "\n",
            "These are the steps:\n",
            "1. A full test suite run will be made to make sure we\n",
            "   can run the tests successfully and we know how long\n",
            "   it takes (to detect infinite loops for example)\n",
            "2. Mutants will be generated and checked\n",
            "\n",
            "Results are stored in .mutmut-cache.\n",
            "Print found mutants with `mutmut results`.\n",
            "\n",
            "Legend for output:\n",
            "🎉 Killed mutants.   The goal is for everything to end up in this bucket.\n",
            "⏰ Timeout.          Test suite took 10 times as long as the baseline so were killed.\n",
            "🤔 Suspicious.       Tests took a long time, but not long enough to be fatal.\n",
            "🙁 Survived.         This means your tests need to be expanded.\n",
            "🔇 Skipped.          Skipped.\n",
            "\n",
            "mutmut cache is out of date, clearing it...\n",
            "1. Running tests without mutations\n",
            "⠏ Running...Done\n",
            "\n",
            "2. Checking mutants\n",
            "⠧ 79/79  🎉 52  ⏰ 1  🤔 0  🙁 26  🔇 0\n"
          ]
        }
      ]
    },
    {
      "cell_type": "code",
      "source": [
        "!mutmut html\n",
        "!zip -r mutmutresultsPairCoverage.zip html\n",
        "files.download('mutmutresultsPairCoverage.zip')\n",
        "\n",
        "#cleanup\n",
        "!rm .mutmut-cache -rf\n",
        "!rm main.py\n",
        "!rm tests/test_main.py"
      ],
      "metadata": {
        "colab": {
          "base_uri": "https://localhost:8080/",
          "height": 52
        },
        "outputId": "811f5453-b92d-4ec9-ef36-91bdabf24a5b",
        "id": "gQ3OItYTAMK1"
      },
      "execution_count": null,
      "outputs": [
        {
          "output_type": "stream",
          "name": "stdout",
          "text": [
            "  adding: html/ (stored 0%)\n",
            "  adding: html/index.html (deflated 34%)\n"
          ]
        },
        {
          "output_type": "display_data",
          "data": {
            "text/plain": [
              "<IPython.core.display.Javascript object>"
            ],
            "application/javascript": [
              "\n",
              "    async function download(id, filename, size) {\n",
              "      if (!google.colab.kernel.accessAllowed) {\n",
              "        return;\n",
              "      }\n",
              "      const div = document.createElement('div');\n",
              "      const label = document.createElement('label');\n",
              "      label.textContent = `Downloading \"${filename}\": `;\n",
              "      div.appendChild(label);\n",
              "      const progress = document.createElement('progress');\n",
              "      progress.max = size;\n",
              "      div.appendChild(progress);\n",
              "      document.body.appendChild(div);\n",
              "\n",
              "      const buffers = [];\n",
              "      let downloaded = 0;\n",
              "\n",
              "      const channel = await google.colab.kernel.comms.open(id);\n",
              "      // Send a message to notify the kernel that we're ready.\n",
              "      channel.send({})\n",
              "\n",
              "      for await (const message of channel.messages) {\n",
              "        // Send a message to notify the kernel that we're ready.\n",
              "        channel.send({})\n",
              "        if (message.buffers) {\n",
              "          for (const buffer of message.buffers) {\n",
              "            buffers.push(buffer);\n",
              "            downloaded += buffer.byteLength;\n",
              "            progress.value = downloaded;\n",
              "          }\n",
              "        }\n",
              "      }\n",
              "      const blob = new Blob(buffers, {type: 'application/binary'});\n",
              "      const a = document.createElement('a');\n",
              "      a.href = window.URL.createObjectURL(blob);\n",
              "      a.download = filename;\n",
              "      div.appendChild(a);\n",
              "      a.click();\n",
              "      div.remove();\n",
              "    }\n",
              "  "
            ]
          },
          "metadata": {}
        },
        {
          "output_type": "display_data",
          "data": {
            "text/plain": [
              "<IPython.core.display.Javascript object>"
            ],
            "application/javascript": [
              "download(\"download_c6e8b48b-e063-4f2d-a6d1-fac2da1f8c79\", \"mutmutresultsPairCoverage.zip\", 437)"
            ]
          },
          "metadata": {}
        }
      ]
    },
    {
      "cell_type": "markdown",
      "source": [
        "###**Execução do mutmut para o critério de pares de arcos**"
      ],
      "metadata": {
        "id": "1pH1xaTWWvLG"
      }
    },
    {
      "cell_type": "code",
      "source": [
        "!mkdir src 2>/dev/null\n",
        "!mkdir tests 2>/dev/null\n",
        "%history -n -t 2 -f output\n",
        "%history -n -t 5 -f outputteste\n",
        "!tail  -n +2 output > main.py\n",
        "!tail  -n +2 outputteste > test_main.py\n",
        "!sed -i '1ifrom main import baralho1' test_main.py\n",
        "!mv test_main.py tests\n",
        "\n",
        "!rm output\n",
        "!rm outputteste\n",
        "\n",
        "!touch setup.cfg\n",
        "!echo -e \"[mutmut] \\\n",
        "\\npaths_to_mutate=main.py \\\n",
        "\\ntests_dir=tests/\" \\\n",
        "> setup.cfg"
      ],
      "metadata": {
        "id": "qNPnqDym_7TN"
      },
      "execution_count": null,
      "outputs": []
    },
    {
      "cell_type": "code",
      "source": [
        "!mutmut run"
      ],
      "metadata": {
        "colab": {
          "base_uri": "https://localhost:8080/"
        },
        "outputId": "9aa8923a-9c0c-41bd-b291-659d14032d88",
        "id": "65k6U-6mADbu"
      },
      "execution_count": null,
      "outputs": [
        {
          "output_type": "stream",
          "name": "stdout",
          "text": [
            "\n",
            "- Mutation testing starting -\n",
            "\n",
            "These are the steps:\n",
            "1. A full test suite run will be made to make sure we\n",
            "   can run the tests successfully and we know how long\n",
            "   it takes (to detect infinite loops for example)\n",
            "2. Mutants will be generated and checked\n",
            "\n",
            "Results are stored in .mutmut-cache.\n",
            "Print found mutants with `mutmut results`.\n",
            "\n",
            "Legend for output:\n",
            "🎉 Killed mutants.   The goal is for everything to end up in this bucket.\n",
            "⏰ Timeout.          Test suite took 10 times as long as the baseline so were killed.\n",
            "🤔 Suspicious.       Tests took a long time, but not long enough to be fatal.\n",
            "🙁 Survived.         This means your tests need to be expanded.\n",
            "🔇 Skipped.          Skipped.\n",
            "\n",
            "mutmut cache is out of date, clearing it...\n",
            "1. Running tests without mutations\n",
            "⠙ Running...Traceback (most recent call last):\n",
            "  File \"/usr/local/bin/mutmut\", line 8, in <module>\n",
            "    sys.exit(climain())\n",
            "  File \"/usr/local/lib/python3.10/dist-packages/click/core.py\", line 1130, in __call__\n",
            "    return self.main(*args, **kwargs)\n",
            "  File \"/usr/local/lib/python3.10/dist-packages/click/core.py\", line 1055, in main\n",
            "    rv = self.invoke(ctx)\n",
            "  File \"/usr/local/lib/python3.10/dist-packages/click/core.py\", line 1657, in invoke\n",
            "    return _process_result(sub_ctx.command.invoke(sub_ctx))\n",
            "  File \"/usr/local/lib/python3.10/dist-packages/click/core.py\", line 1404, in invoke\n",
            "    return ctx.invoke(self.callback, **ctx.params)\n",
            "  File \"/usr/local/lib/python3.10/dist-packages/click/core.py\", line 760, in invoke\n",
            "    return __callback(*args, **kwargs)\n",
            "  File \"/usr/local/lib/python3.10/dist-packages/mutmut/__init__.py\", line 883, in wrapper\n",
            "    f(*args, **kwargs)\n",
            "  File \"/usr/local/lib/python3.10/dist-packages/mutmut/__main__.py\", line 141, in run\n",
            "    sys.exit(do_run(argument, paths_to_mutate, disable_mutation_types, enable_mutation_types, runner,\n",
            "  File \"/usr/local/lib/python3.10/dist-packages/mutmut/__main__.py\", line 341, in do_run\n",
            "    baseline_time_elapsed = time_test_suite(\n",
            "  File \"/usr/local/lib/python3.10/dist-packages/mutmut/__main__.py\", line 480, in time_test_suite\n",
            "    raise RuntimeError(\"Tests don't run cleanly without mutations. Test command was: {}\\n\\nOutput:\\n\\n{}\".format(test_command, '\\n'.join(output)))\n",
            "RuntimeError: Tests don't run cleanly without mutations. Test command was: python -m pytest -x --assert=plain\n",
            "\n",
            "Output:\n",
            "\n",
            "\u001b[1m============================= test session starts ==============================\u001b[0m\n",
            "\n",
            "platform linux -- Python 3.10.12, pytest-7.2.2, pluggy-1.2.0\n",
            "\n",
            "rootdir: /content\n",
            "\n",
            "plugins: anyio-3.7.0\n",
            "\n",
            "\u001b[1mcollecting ... \u001b[0m\u001b[1m\n",
            "\n",
            "collected 0 items / 1 error                                                    \u001b[0m\n",
            "\n",
            "\n",
            "\n",
            "==================================== ERRORS ====================================\n",
            "\n",
            "\u001b[31m\u001b[1m_____________________ ERROR collecting tests/test_main.py ______________________\u001b[0m\n",
            "\n",
            "\u001b[31mImportError while importing test module '/content/tests/test_main.py'.\n",
            "\n",
            "Hint: make sure your test modules/packages have valid Python names.\n",
            "\n",
            "Traceback:\n",
            "\n",
            "/usr/lib/python3.10/importlib/__init__.py:126: in import_module\n",
            "\n",
            "    return _bootstrap._gcd_import(name[level:], package, level)\n",
            "\n",
            "tests/test_main.py:1: in <module>\n",
            "\n",
            "    from main import baralho2\n",
            "\n",
            "E   ImportError: cannot import name 'baralho2' from 'main' (/content/main.py)\u001b[0m\n",
            "\n",
            "\u001b[36m\u001b[1m=========================== short test summary info ============================\u001b[0m\n",
            "\n",
            "\u001b[31mERROR\u001b[0m tests/test_main.py\n",
            "\n",
            "\u001b[31m!!!!!!!!!!!!!!!!!!!!!!!!!! stopping after 1 failures !!!!!!!!!!!!!!!!!!!!!!!!!!!\u001b[0m\n",
            "\n",
            "!!!!!!!!!!!!!!!!!!!! Interrupted: 1 error during collection !!!!!!!!!!!!!!!!!!!!\n",
            "\n",
            "\u001b[31m=============================== \u001b[31m\u001b[1m1 error\u001b[0m\u001b[31m in 0.15s\u001b[0m\u001b[31m ===============================\u001b[0m\n",
            "\n"
          ]
        }
      ]
    },
    {
      "cell_type": "code",
      "source": [
        "!mutmut html\n",
        "!zip -r mutmutresultsEdgePair.zip html\n",
        "files.download('mutmutresultsEdgePair.zip')\n",
        "\n",
        "#cleanup\n",
        "!rm .mutmut-cache -rf\n",
        "!rm main.py\n",
        "!rm tests/test_main.py"
      ],
      "metadata": {
        "colab": {
          "base_uri": "https://localhost:8080/",
          "height": 52
        },
        "outputId": "eef03d13-6a6d-4ec8-96f6-ba5527bce762",
        "id": "XtbTKt0QANDM"
      },
      "execution_count": null,
      "outputs": [
        {
          "output_type": "stream",
          "name": "stdout",
          "text": [
            "  adding: html/ (stored 0%)\n",
            "  adding: html/index.html (deflated 34%)\n"
          ]
        },
        {
          "output_type": "display_data",
          "data": {
            "text/plain": [
              "<IPython.core.display.Javascript object>"
            ],
            "application/javascript": [
              "\n",
              "    async function download(id, filename, size) {\n",
              "      if (!google.colab.kernel.accessAllowed) {\n",
              "        return;\n",
              "      }\n",
              "      const div = document.createElement('div');\n",
              "      const label = document.createElement('label');\n",
              "      label.textContent = `Downloading \"${filename}\": `;\n",
              "      div.appendChild(label);\n",
              "      const progress = document.createElement('progress');\n",
              "      progress.max = size;\n",
              "      div.appendChild(progress);\n",
              "      document.body.appendChild(div);\n",
              "\n",
              "      const buffers = [];\n",
              "      let downloaded = 0;\n",
              "\n",
              "      const channel = await google.colab.kernel.comms.open(id);\n",
              "      // Send a message to notify the kernel that we're ready.\n",
              "      channel.send({})\n",
              "\n",
              "      for await (const message of channel.messages) {\n",
              "        // Send a message to notify the kernel that we're ready.\n",
              "        channel.send({})\n",
              "        if (message.buffers) {\n",
              "          for (const buffer of message.buffers) {\n",
              "            buffers.push(buffer);\n",
              "            downloaded += buffer.byteLength;\n",
              "            progress.value = downloaded;\n",
              "          }\n",
              "        }\n",
              "      }\n",
              "      const blob = new Blob(buffers, {type: 'application/binary'});\n",
              "      const a = document.createElement('a');\n",
              "      a.href = window.URL.createObjectURL(blob);\n",
              "      a.download = filename;\n",
              "      div.appendChild(a);\n",
              "      a.click();\n",
              "      div.remove();\n",
              "    }\n",
              "  "
            ]
          },
          "metadata": {}
        },
        {
          "output_type": "display_data",
          "data": {
            "text/plain": [
              "<IPython.core.display.Javascript object>"
            ],
            "application/javascript": [
              "download(\"download_a934708d-a8af-4ca5-899c-c323218661d7\", \"mutmutresultsEdgePair.zip\", 437)"
            ]
          },
          "metadata": {}
        }
      ]
    },
    {
      "cell_type": "markdown",
      "source": [
        "###**Execução do mutmut para o critério de caminhos primos**"
      ],
      "metadata": {
        "id": "BC37Q1y_z24x"
      }
    },
    {
      "cell_type": "code",
      "source": [
        "!mkdir src 2>/dev/null\n",
        "!mkdir tests 2>/dev/null\n",
        "%history -n -t 2 -f output\n",
        "%history -n -t 6 -f outputteste\n",
        "!tail  -n +2 output > main.py\n",
        "!tail  -n +2 outputteste > test_main.py\n",
        "!sed -i '1ifrom main import baralho1' test_main.py\n",
        "!mv test_main.py tests\n",
        "\n",
        "!rm output\n",
        "!rm outputteste\n",
        "\n",
        "!touch setup.cfg\n",
        "!echo -e \"[mutmut] \\\n",
        "\\npaths_to_mutate=main.py \\\n",
        "\\ntests_dir=tests/\" \\\n",
        "> setup.cfg"
      ],
      "metadata": {
        "id": "kv06BbUMz242"
      },
      "execution_count": null,
      "outputs": []
    },
    {
      "cell_type": "code",
      "source": [
        "!mutmut run"
      ],
      "metadata": {
        "colab": {
          "base_uri": "https://localhost:8080/"
        },
        "outputId": "ee7d180f-d6c8-400b-d338-afd5b6902f63",
        "id": "nY67lIX-z243"
      },
      "execution_count": null,
      "outputs": [
        {
          "output_type": "stream",
          "name": "stdout",
          "text": [
            "\n",
            "- Mutation testing starting -\n",
            "\n",
            "These are the steps:\n",
            "1. A full test suite run will be made to make sure we\n",
            "   can run the tests successfully and we know how long\n",
            "   it takes (to detect infinite loops for example)\n",
            "2. Mutants will be generated and checked\n",
            "\n",
            "Results are stored in .mutmut-cache.\n",
            "Print found mutants with `mutmut results`.\n",
            "\n",
            "Legend for output:\n",
            "🎉 Killed mutants.   The goal is for everything to end up in this bucket.\n",
            "⏰ Timeout.          Test suite took 10 times as long as the baseline so were killed.\n",
            "🤔 Suspicious.       Tests took a long time, but not long enough to be fatal.\n",
            "🙁 Survived.         This means your tests need to be expanded.\n",
            "🔇 Skipped.          Skipped.\n",
            "\n",
            "mutmut cache is out of date, clearing it...\n",
            "1. Running tests without mutations\n",
            "⠙ Running...Traceback (most recent call last):\n",
            "  File \"/usr/local/bin/mutmut\", line 8, in <module>\n",
            "    sys.exit(climain())\n",
            "  File \"/usr/local/lib/python3.10/dist-packages/click/core.py\", line 1130, in __call__\n",
            "    return self.main(*args, **kwargs)\n",
            "  File \"/usr/local/lib/python3.10/dist-packages/click/core.py\", line 1055, in main\n",
            "    rv = self.invoke(ctx)\n",
            "  File \"/usr/local/lib/python3.10/dist-packages/click/core.py\", line 1657, in invoke\n",
            "    return _process_result(sub_ctx.command.invoke(sub_ctx))\n",
            "  File \"/usr/local/lib/python3.10/dist-packages/click/core.py\", line 1404, in invoke\n",
            "    return ctx.invoke(self.callback, **ctx.params)\n",
            "  File \"/usr/local/lib/python3.10/dist-packages/click/core.py\", line 760, in invoke\n",
            "    return __callback(*args, **kwargs)\n",
            "  File \"/usr/local/lib/python3.10/dist-packages/mutmut/__init__.py\", line 883, in wrapper\n",
            "    f(*args, **kwargs)\n",
            "  File \"/usr/local/lib/python3.10/dist-packages/mutmut/__main__.py\", line 141, in run\n",
            "    sys.exit(do_run(argument, paths_to_mutate, disable_mutation_types, enable_mutation_types, runner,\n",
            "  File \"/usr/local/lib/python3.10/dist-packages/mutmut/__main__.py\", line 341, in do_run\n",
            "    baseline_time_elapsed = time_test_suite(\n",
            "  File \"/usr/local/lib/python3.10/dist-packages/mutmut/__main__.py\", line 480, in time_test_suite\n",
            "    raise RuntimeError(\"Tests don't run cleanly without mutations. Test command was: {}\\n\\nOutput:\\n\\n{}\".format(test_command, '\\n'.join(output)))\n",
            "RuntimeError: Tests don't run cleanly without mutations. Test command was: python -m pytest -x --assert=plain\n",
            "\n",
            "Output:\n",
            "\n",
            "\u001b[1m============================= test session starts ==============================\u001b[0m\n",
            "\n",
            "platform linux -- Python 3.10.12, pytest-7.2.2, pluggy-1.2.0\n",
            "\n",
            "rootdir: /content\n",
            "\n",
            "plugins: anyio-3.7.0\n",
            "\n",
            "\u001b[1mcollecting ... \u001b[0m\u001b[1m\n",
            "\n",
            "collected 0 items / 1 error                                                    \u001b[0m\n",
            "\n",
            "\n",
            "\n",
            "==================================== ERRORS ====================================\n",
            "\n",
            "\u001b[31m\u001b[1m_____________________ ERROR collecting tests/test_main.py ______________________\u001b[0m\n",
            "\n",
            "\u001b[31mImportError while importing test module '/content/tests/test_main.py'.\n",
            "\n",
            "Hint: make sure your test modules/packages have valid Python names.\n",
            "\n",
            "Traceback:\n",
            "\n",
            "/usr/lib/python3.10/importlib/__init__.py:126: in import_module\n",
            "\n",
            "    return _bootstrap._gcd_import(name[level:], package, level)\n",
            "\n",
            "tests/test_main.py:1: in <module>\n",
            "\n",
            "    from main import baralho2\n",
            "\n",
            "E   ImportError: cannot import name 'baralho2' from 'main' (/content/main.py)\u001b[0m\n",
            "\n",
            "\u001b[36m\u001b[1m=========================== short test summary info ============================\u001b[0m\n",
            "\n",
            "\u001b[31mERROR\u001b[0m tests/test_main.py\n",
            "\n",
            "\u001b[31m!!!!!!!!!!!!!!!!!!!!!!!!!! stopping after 1 failures !!!!!!!!!!!!!!!!!!!!!!!!!!!\u001b[0m\n",
            "\n",
            "!!!!!!!!!!!!!!!!!!!! Interrupted: 1 error during collection !!!!!!!!!!!!!!!!!!!!\n",
            "\n",
            "\u001b[31m=============================== \u001b[31m\u001b[1m1 error\u001b[0m\u001b[31m in 0.08s\u001b[0m\u001b[31m ===============================\u001b[0m\n",
            "\n"
          ]
        }
      ]
    },
    {
      "cell_type": "code",
      "source": [
        "!mutmut html\n",
        "!zip -r mutmutresultsPrimePaths.zip html\n",
        "files.download('mutmutresultsPrimePaths.zip')\n",
        "\n",
        "#cleanup\n",
        "!rm .mutmut-cache -rf\n",
        "!rm main.py\n",
        "!rm tests/test_main.py"
      ],
      "metadata": {
        "colab": {
          "base_uri": "https://localhost:8080/",
          "height": 52
        },
        "outputId": "06b7755b-0450-471e-b82a-9bc0e08b53b9",
        "id": "176qk6Ugz243"
      },
      "execution_count": null,
      "outputs": [
        {
          "output_type": "stream",
          "name": "stdout",
          "text": [
            "  adding: html/ (stored 0%)\n",
            "  adding: html/index.html (deflated 34%)\n"
          ]
        },
        {
          "output_type": "display_data",
          "data": {
            "text/plain": [
              "<IPython.core.display.Javascript object>"
            ],
            "application/javascript": [
              "\n",
              "    async function download(id, filename, size) {\n",
              "      if (!google.colab.kernel.accessAllowed) {\n",
              "        return;\n",
              "      }\n",
              "      const div = document.createElement('div');\n",
              "      const label = document.createElement('label');\n",
              "      label.textContent = `Downloading \"${filename}\": `;\n",
              "      div.appendChild(label);\n",
              "      const progress = document.createElement('progress');\n",
              "      progress.max = size;\n",
              "      div.appendChild(progress);\n",
              "      document.body.appendChild(div);\n",
              "\n",
              "      const buffers = [];\n",
              "      let downloaded = 0;\n",
              "\n",
              "      const channel = await google.colab.kernel.comms.open(id);\n",
              "      // Send a message to notify the kernel that we're ready.\n",
              "      channel.send({})\n",
              "\n",
              "      for await (const message of channel.messages) {\n",
              "        // Send a message to notify the kernel that we're ready.\n",
              "        channel.send({})\n",
              "        if (message.buffers) {\n",
              "          for (const buffer of message.buffers) {\n",
              "            buffers.push(buffer);\n",
              "            downloaded += buffer.byteLength;\n",
              "            progress.value = downloaded;\n",
              "          }\n",
              "        }\n",
              "      }\n",
              "      const blob = new Blob(buffers, {type: 'application/binary'});\n",
              "      const a = document.createElement('a');\n",
              "      a.href = window.URL.createObjectURL(blob);\n",
              "      a.download = filename;\n",
              "      div.appendChild(a);\n",
              "      a.click();\n",
              "      div.remove();\n",
              "    }\n",
              "  "
            ]
          },
          "metadata": {}
        },
        {
          "output_type": "display_data",
          "data": {
            "text/plain": [
              "<IPython.core.display.Javascript object>"
            ],
            "application/javascript": [
              "download(\"download_c79d5503-47b9-46b3-a189-38abed983dc7\", \"mutmutresultsPrimePaths.zip\", 437)"
            ]
          },
          "metadata": {}
        }
      ]
    },
    {
      "cell_type": "markdown",
      "source": [
        "Não foi possível fazer a mutação ou os testes pois o algoritmo está incorreto. Ele não emite o \"erro\" que o problema inicial exige e por isso alguns outputs não ficam corretos."
      ],
      "metadata": {
        "id": "mgvdmDZsTOVo"
      }
    },
    {
      "cell_type": "markdown",
      "source": [
        "## **Processo de Iteração do Código**"
      ],
      "metadata": {
        "id": "Y8J6zhr-9m0M"
      }
    },
    {
      "cell_type": "markdown",
      "source": [
        "### **Cobertura de Nós**"
      ],
      "metadata": {
        "id": "t0-7ePAlcv2g"
      }
    },
    {
      "cell_type": "markdown",
      "source": [
        "#### **Iteração 1**\n",
        "\n",
        "O primeiro erro do programa foi detectado pela execução do unittest. O programa não exibe output *erro* quando necessário.\n",
        "\n",
        "```\n",
        "FAIL: test1_baralho1 (__main__.testeBaralhoEdgeCoverage)\n",
        "----------------------------------------------------------------------\n",
        "Traceback (most recent call last):\n",
        "  File \"<ipython-input-6-d430ce192917>\", line 10, in test1_baralho1\n",
        "    self.assertEqual(result, [11, 13, 9, 'erro'])\n",
        "AssertionError: Lists differ: [11, 13, 9, 11] != [11, 13, 9, 'erro']\n",
        "\n",
        "First differing element 3:\n",
        "11\n",
        "'erro'\n",
        "\n",
        "- [11, 13, 9, 11]\n",
        "?             ^^\n",
        "\n",
        "+ [11, 13, 9, 'erro']\n",
        "?             ^^^^^^\n",
        "```\n",
        "Adicionamos uma checagem de duplicada e alteração do naipe para *erro* em caso positivo."
      ],
      "metadata": {
        "id": "6RcDyUen9rTu"
      }
    },
    {
      "cell_type": "markdown",
      "source": [
        "#### **Iteração 2**"
      ],
      "metadata": {
        "id": "L-swXAMz-TXp"
      }
    },
    {
      "cell_type": "markdown",
      "source": [
        "Começamos pela cobertura de nós, onde 18 mutantes sobreviveram, 5 ficaram em Timeout e 1 em suspeita.\n",
        "\n",
        "**Timeout**: \\\\\n",
        "Todos os mutantes de Timeout alteravam a iteração ou o critério do loop da variável *valor*, fazendo o loop ficar infinito. Como esse tipo de mutante não é preocupante dado as entradas do programa, vamos ignorá-los. \\\\\n",
        "**Suspicious**: \\\\\n",
        "O único mutante de suspeita também alterou o critério loop *while* da variável *valor* contudo o resultado desse mutante é diferente do programa original, então deveria ser morto. \\\\\n",
        "**Survived**: \\\\\n",
        "Devido a grande quantidade, não vamos colá-los aqui mas grande parte deles foram mutante que alteravam as atribuições iniciais e não eram detectados, para isso criamos mais testes e fizemos as seguinte alterações:\n",
        "```\n",
        "- while valor != '14':\n",
        "+ while int(valor) <= 13:\n",
        "```\n",
        "```\n",
        "- else:\n",
        "    ouros = 'erro' if (carta_anterior == cartas[i] or cartas == 'erro') else ouros - 1\n",
        "+ elif(naipe == 'U'):\n",
        "    ouros = 'erro' if (carta_anterior == cartas[i] or cartas == 'erro') else ouros - 1\n",
        "```"
      ],
      "metadata": {
        "id": "NYiit_jiJyf6"
      }
    },
    {
      "cell_type": "markdown",
      "source": [
        "#### **Iteração 3**"
      ],
      "metadata": {
        "id": "CSOsirgJdJiQ"
      }
    },
    {
      "cell_type": "markdown",
      "source": [
        "Nessa segunda tivemos 3 mutantes sobreviventes, 1 em Timeout e 5 em suspeita.\n",
        "\n",
        "**Timeout**: \\\\\n",
        "Mesmo tipo da iteração 2, então foi ignorado. \\\\\n",
        "**Suspicious**: \\\\\n",
        "Apesar da quantidade de suspeitos subirem, são,em sua maioria, em relação ao passo do loop inicial de entrada ```cartas = cartas + [entrada[i:i+3]]```. Isso praticamente quebra a lógica do programa, pois as entradas são todas em sequencias de 3 caracteres (dois numeros e uma letra). \\\\\n",
        "Fazer passada maior ou menor que isso sempre acarreterá no programa não processando direito. Devido a isso, é impossível matar esse tipo de mutante. \\\\\n",
        "**Survived**: \\\\\n",
        "```\n",
        "-  carta_anterior = ''\n",
        "+  carta_anterior = 'XXXX'\n",
        "```\n",
        "```\n",
        "-  carta_anterior = ''\n",
        "+  carta_anterior = None\n",
        "```\n",
        "```\n",
        "-  while int(valor) <= 13:\n",
        "+  while int(valor) <= 14:\n",
        "```\n",
        "Nesse caso, ficaram somente os de atribuição que não afetam o programa em nada, já que essa atribuição é feita só para declarar a variável (seu valor é mudado ao entrar no loop).\n",
        "Já o terceiro, do critério do while, devido ao programa somente recever entrada de valor até 13, aumentar a comparação somente faz o programa rodar por mais tempo, sem alterar em nada as variáveis, por isso também é ignorado.\n",
        "\n"
      ],
      "metadata": {
        "id": "t1-HTgqUdMp6"
      }
    },
    {
      "cell_type": "markdown",
      "source": [
        "### **Cobertura de Arcos**"
      ],
      "metadata": {
        "id": "9mGYk1_Mxskt"
      }
    },
    {
      "cell_type": "markdown",
      "source": [
        "#### **Iteração 1**\n",
        "\n",
        "O primeiro erro do programa foi detectado pela execução do unittest. O programa não exibe output *erro* quando necessário.\n",
        "\n",
        "```\n",
        "FAIL: test1_baralho1 (__main__.testeBaralhoEdgeCoverage)\n",
        "----------------------------------------------------------------------\n",
        "Traceback (most recent call last):\n",
        "  File \"<ipython-input-6-d430ce192917>\", line 10, in test1_baralho1\n",
        "    self.assertEqual(result, [11, 13, 9, 'erro'])\n",
        "AssertionError: Lists differ: [11, 13, 9, 11] != [11, 13, 9, 'erro']\n",
        "\n",
        "First differing element 3:\n",
        "11\n",
        "'erro'\n",
        "\n",
        "- [11, 13, 9, 11]\n",
        "?             ^^\n",
        "\n",
        "+ [11, 13, 9, 'erro']\n",
        "?             ^^^^^^\n",
        "```\n",
        "Adicionamos uma checagem de duplicada e alteração do naipe para *erro* em caso positivo."
      ],
      "metadata": {
        "id": "YlRVGeUzxsku"
      }
    },
    {
      "cell_type": "markdown",
      "source": [
        "#### **Iteração 2**"
      ],
      "metadata": {
        "id": "EojyvXlSxsku"
      }
    },
    {
      "cell_type": "markdown",
      "source": [
        "Começamos pela cobertura de nós, onde 18 mutantes sobreviveram, 5 ficaram em Timeout e 1 em suspeita.\n",
        "\n",
        "**Timeout**: \\\\\n",
        "Todos os mutantes de Timeout alteravam a iteração ou o critério do loop da variável *valor*, fazendo o loop ficar infinito. Como esse tipo de mutante não é preocupante dado as entradas do programa, vamos ignorá-los. \\\\\n",
        "**Suspicious**: \\\\\n",
        "O único mutante de suspeita também alterou o critério loop *while* da variável *valor* contudo o resultado desse mutante é diferente do programa original, então deveria ser morto. \\\\\n",
        "**Survived**: \\\\\n",
        "Devido a grande quantidade, não vamos colá-los aqui mas grande parte deles foram mutante que alteravam as atribuições iniciais e não eram detectados, para isso criamos mais testes e fizemos as seguinte alterações:\n",
        "```\n",
        "- while valor != '14':\n",
        "+ while int(valor) <= 13:\n",
        "```\n",
        "```\n",
        "- else:\n",
        "    ouros = 'erro' if (carta_anterior == cartas[i] or cartas == 'erro') else ouros - 1\n",
        "+ elif(naipe == 'U'):\n",
        "    ouros = 'erro' if (carta_anterior == cartas[i] or cartas == 'erro') else ouros - 1\n",
        "```"
      ],
      "metadata": {
        "id": "InOkH_8Bxskv"
      }
    },
    {
      "cell_type": "markdown",
      "source": [
        "#### **Iteração 3**"
      ],
      "metadata": {
        "id": "Yvx2HwhXxsky"
      }
    },
    {
      "cell_type": "markdown",
      "source": [
        "Nessa segunda tivemos 3 mutantes sobreviventes, 1 em Timeout e 5 em suspeita.\n",
        "\n",
        "**Timeout**: \\\\\n",
        "Mesmo tipo da iteração 2, então foi ignorado. \\\\\n",
        "**Suspicious**: \\\\\n",
        "Apesar da quantidade de suspeitos subirem, são,em sua maioria, em relação ao passo do loop inicial de entrada ```cartas = cartas + [entrada[i:i+3]]```. Isso praticamente quebra a lógica do programa, pois as entradas são todas em sequencias de 3 caracteres (dois numeros e uma letra). \\\\\n",
        "Fazer passada maior ou menor que isso sempre acarreterá no programa não processando direito. Devido a isso, é impossível matar esse tipo de mutante. \\\\\n",
        "**Survived**: \\\\\n",
        "```\n",
        "-  carta_anterior = ''\n",
        "+  carta_anterior = 'XXXX'\n",
        "```\n",
        "```\n",
        "-  carta_anterior = ''\n",
        "+  carta_anterior = None\n",
        "```\n",
        "```\n",
        "-  while int(valor) <= 13:\n",
        "+  while int(valor) <= 14:\n",
        "```\n",
        "Nesse caso, ficaram somente os de atribuição que não afetam o programa em nada, já que essa atribuição é feita só para declarar a variável (seu valor é mudado ao entrar no loop).\n",
        "Já o terceiro, do critério do while, devido ao programa somente recever entrada de valor até 13, aumentar a comparação somente faz o programa rodar por mais tempo, sem alterar em nada as variáveis, por isso também é ignorado.\n",
        "\n"
      ],
      "metadata": {
        "id": "ocnkNSaMxsk0"
      }
    }
  ]
}